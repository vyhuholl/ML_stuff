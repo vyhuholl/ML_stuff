{
  "cells": [
    {
      "cell_type": "markdown",
      "metadata": {
        "id": "6_117sy0CGEU"
      },
      "source": [
        "# JAX As Accelerated NumPy\n",
        "\n",
        "[![Open in Colab](https://colab.research.google.com/assets/colab-badge.svg)](https://colab.research.google.com/github/google/jax/blob/main/docs/jax-101/01-jax-basics.ipynb)\n",
        "\n",
        "*Authors: Rosalia Schneider & Vladimir Mikulik*\n",
        "\n",
        "In this first section you will learn the very fundamentals of JAX."
      ]
    },
    {
      "cell_type": "markdown",
      "metadata": {
        "id": "CXjHL4L6ku3-"
      },
      "source": [
        "## Getting started with JAX\n",
        "\n",
        "Fundamentally, JAX is a library that enables transformations of array-manipulating programs written with a NumPy-like API. \n",
        "\n",
        "Over the course of this series of guides, we will unpack exactly what that means. For now, you can think of JAX as *differentiable NumPy that runs on accelerators*.\n",
        "\n",
        "The code below shows how to import JAX and create a vector."
      ]
    },
    {
      "cell_type": "code",
      "source": [
        "from typing import Tuple\n",
        "from warnings import filterwarnings\n",
        "\n",
        "import jax\n",
        "import jax.numpy as jnp\n",
        "import matplotlib.pyplot as plt\n",
        "import numpy as np\n",
        "\n",
        "%matplotlib inline"
      ],
      "metadata": {
        "id": "v0I5iSSYoFP7"
      },
      "execution_count": 16,
      "outputs": []
    },
    {
      "cell_type": "code",
      "source": [
        "filterwarnings('ignore')"
      ],
      "metadata": {
        "id": "DDuCvfc2o3XN"
      },
      "execution_count": 17,
      "outputs": []
    },
    {
      "cell_type": "code",
      "source": [
        "plt.rcParams['figure.figsize'] = (18, 10)"
      ],
      "metadata": {
        "id": "W_1BF1HToq33"
      },
      "execution_count": 30,
      "outputs": []
    },
    {
      "cell_type": "code",
      "execution_count": 4,
      "metadata": {
        "id": "ZqUzvqF1B1TO",
        "outputId": "d72c8604-9d10-4c80-815a-b75d2831eea6",
        "colab": {
          "base_uri": "https://localhost:8080/"
        }
      },
      "outputs": [
        {
          "output_type": "stream",
          "name": "stdout",
          "text": [
            "[0 1 2 3 4 5 6 7 8 9]\n"
          ]
        }
      ],
      "source": [
        "x = jnp.arange(10)\n",
        "print(x)"
      ]
    },
    {
      "cell_type": "markdown",
      "metadata": {
        "id": "rPBmlAxXlBAy"
      },
      "source": [
        "So far, everything is just like NumPy. A big appeal of JAX is that you don't need to learn a new API. Many common NumPy programs would run just as well in JAX if you substitute `np` for `jnp`. However, there are some important differences which we touch on at the end of this section.\n",
        "\n",
        "You can notice the first difference if you check the type of `x`. It is a variable of type `DeviceArray`, which is the way JAX represents arrays."
      ]
    },
    {
      "cell_type": "code",
      "execution_count": 5,
      "metadata": {
        "id": "3fLtgPUAn7mi",
        "outputId": "28a4754f-ff65-445e-b665-800eb429f3bf",
        "colab": {
          "base_uri": "https://localhost:8080/"
        }
      },
      "outputs": [
        {
          "output_type": "execute_result",
          "data": {
            "text/plain": [
              "DeviceArray([0, 1, 2, 3, 4, 5, 6, 7, 8, 9], dtype=int32)"
            ]
          },
          "metadata": {},
          "execution_count": 5
        }
      ],
      "source": [
        "x"
      ]
    },
    {
      "cell_type": "markdown",
      "metadata": {
        "id": "Yx8VofzzoHFH"
      },
      "source": [
        "One useful feature of JAX is that the same code can be run on different backends -- CPU, GPU and TPU.\n",
        "\n",
        "We will now perform a dot product to demonstrate that it can be done in different devices without changing the code. We use `%timeit` to check the performance. \n",
        "\n",
        "(Technical detail: when a JAX function is called, the corresponding operation is dispatched to an accelerator to be computed asynchronously when possible. The returned array is therefore not necessarily 'filled in' as soon as the function returns. Thus, if we don't require the result immediately, the computation won't block Python execution. Therefore, unless we `block_until_ready`, we will only time the dispatch, not the actual computation. See [Asynchronous dispatch](https://jax.readthedocs.io/en/latest/async_dispatch.html#asynchronous-dispatch) in the JAX docs.)"
      ]
    },
    {
      "cell_type": "code",
      "execution_count": 6,
      "metadata": {
        "id": "mRvjVxoqo-Bi",
        "outputId": "1473be43-b737-4b96-9cf6-6f3c9003500e",
        "colab": {
          "base_uri": "https://localhost:8080/"
        }
      },
      "outputs": [
        {
          "output_type": "stream",
          "name": "stdout",
          "text": [
            "The slowest run took 500.84 times longer than the fastest. This could mean that an intermediate result is being cached.\n",
            "1000 loops, best of 5: 291 µs per loop\n"
          ]
        }
      ],
      "source": [
        "long_vector = jnp.arange(int(1e7))\n",
        "\n",
        "%timeit jnp.dot(long_vector, long_vector).block_until_ready()"
      ]
    },
    {
      "cell_type": "markdown",
      "metadata": {
        "id": "DKBB0zs-p-RC"
      },
      "source": [
        "**Tip**: Try running the code above twice, once without an accelerator, and once with a GPU runtime (while in Colab, click *Runtime* → *Change Runtime Type* and choose `GPU`). Notice how much faster it runs on a GPU."
      ]
    },
    {
      "cell_type": "markdown",
      "metadata": {
        "id": "PkCpI-v0uQQO"
      },
      "source": [
        "## JAX first transformation: `grad`\n",
        "\n",
        "A fundamental feature of JAX is that it allows you to transform functions.\n",
        "\n",
        "One of the most commonly used transformations is `jax.grad`, which takes a numerical function written in Python and returns you a new Python function that computes the gradient of the original function. \n",
        "\n",
        "To use it, let's first define a function that takes an array and returns the sum of squares."
      ]
    },
    {
      "cell_type": "code",
      "execution_count": 10,
      "metadata": {
        "id": "LuaGUVRUvbzQ"
      },
      "outputs": [],
      "source": [
        "def sum_of_squares(x: jnp.DeviceArray) -> float:\n",
        "    '''Takes an array and returns the sum of its squares.\n",
        "\n",
        "    Args:\n",
        "        x: a jnp.DeviceArray number array\n",
        "\n",
        "    Returns:\n",
        "        A float number – the sum of squares of all numbers in an array.\n",
        "    '''\n",
        "    return jnp.sum(x ** 2)"
      ]
    },
    {
      "cell_type": "markdown",
      "metadata": {
        "id": "QAqloI1Wvtp2"
      },
      "source": [
        "Applying `jax.grad` to `sum_of_squares` will return a different function, namely the gradient of `sum_of_squares` with respect to its first parameter `x`. \n",
        "\n",
        "Then, you can use that function on an array to return the derivatives with respect to each element of the array."
      ]
    },
    {
      "cell_type": "code",
      "execution_count": 11,
      "metadata": {
        "id": "dKeorwJfvpeI",
        "outputId": "f56fb55f-accc-433d-9aa7-3b40603da55d",
        "colab": {
          "base_uri": "https://localhost:8080/"
        }
      },
      "outputs": [
        {
          "output_type": "stream",
          "name": "stdout",
          "text": [
            "30.0\n",
            "[2. 4. 6. 8.]\n"
          ]
        }
      ],
      "source": [
        "sum_of_squares_dx = jax.grad(sum_of_squares)\n",
        "\n",
        "x = jnp.asarray([1.0, 2.0, 3.0, 4.0])\n",
        "\n",
        "print(sum_of_squares(x))\n",
        "\n",
        "print(sum_of_squares_dx(x))"
      ]
    },
    {
      "cell_type": "markdown",
      "metadata": {
        "id": "VfBt5CYbyKUX"
      },
      "source": [
        "You can think of `jax.grad` by analogy to the $\\nabla$ operator from vector calculus. Given a function $f(x)$, $\\nabla f$ represents the function that computes $f$'s gradient, i.e.\n",
        "\n",
        "$$\n",
        "(\\nabla f)(x)_i = \\frac{\\partial f}{\\partial x_i}(x).\n",
        "$$\n",
        "\n",
        "Analogously, `jax.grad(f)` is the function that computes the gradient, so `jax.grad(f)(x)` is the gradient of `f` at `x`.\n",
        "\n",
        "(Like $\\nabla$, `jax.grad` will only work on functions with a scalar output -- it will raise an error otherwise.)\n",
        "\n",
        "This makes the JAX API quite different from other autodiff libraries like Tensorflow and PyTorch, where to compute the gradient we use the loss tensor itself (e.g. by calling `loss.backward()`). The JAX API works directly with functions, staying closer to the underlying math. Once you become accustomed to this way of doing things, it feels natural: your loss function in code really is a function of parameters and data, and you find its gradient just like you would in the math.\n",
        "\n",
        "This way of doing things makes it straightforward to control things like which variables to differentiate with respect to. By default, `jax.grad` will find the gradient with respect to the first argument. In the example below, the result of `sum_squared_error_dx` will be the gradient of `sum_squared_error` with respect to `x`."
      ]
    },
    {
      "cell_type": "code",
      "execution_count": 12,
      "metadata": {
        "id": "f3NfaVu4yrQE"
      },
      "outputs": [],
      "source": [
        "def sum_squared_error(x: jnp.DeviceArray, y: jnp.DeviceArray) -> float:\n",
        "    '''Takes two arrays x and y and returns the sum of squares of x - y.\n",
        "\n",
        "    Args:\n",
        "        x: a jnp.DeviceArray number array\n",
        "        y: a jnp.DeviceArray number array\n",
        "\n",
        "    Returns:\n",
        "        A float number – the sum of squares of all numbers in an array x - y.\n",
        "    '''\n",
        "    return jnp.sum((x - y) ** 2)"
      ]
    },
    {
      "cell_type": "code",
      "source": [
        "sum_squared_error_dx = jax.grad(sum_squared_error)\n",
        "\n",
        "y = jnp.asarray([1.1, 2.1, 3.1, 4.1])\n",
        "\n",
        "print(sum_squared_error_dx(x, y))"
      ],
      "metadata": {
        "colab": {
          "base_uri": "https://localhost:8080/"
        },
        "id": "NSnIVAWZtAOx",
        "outputId": "3ad450c3-e007-4f3c-e1b7-217c6f32f508"
      },
      "execution_count": 13,
      "outputs": [
        {
          "output_type": "stream",
          "name": "stdout",
          "text": [
            "[-0.20000005 -0.19999981 -0.19999981 -0.19999981]\n"
          ]
        }
      ]
    },
    {
      "cell_type": "markdown",
      "metadata": {
        "id": "1tOztA5zpLWN"
      },
      "source": [
        "To find the gradient with respect to a different argument (or several), you can set `argnums`:"
      ]
    },
    {
      "cell_type": "code",
      "execution_count": 14,
      "metadata": {
        "id": "FQSczVQkqIPY",
        "outputId": "aaf69d49-8135-4196-beb7-498e1a6003fd",
        "colab": {
          "base_uri": "https://localhost:8080/"
        }
      },
      "outputs": [
        {
          "output_type": "execute_result",
          "data": {
            "text/plain": [
              "(DeviceArray([-0.20000005, -0.19999981, -0.19999981, -0.19999981], dtype=float32),\n",
              " DeviceArray([0.20000005, 0.19999981, 0.19999981, 0.19999981], dtype=float32))"
            ]
          },
          "metadata": {},
          "execution_count": 14
        }
      ],
      "source": [
        "# Find gradient with respect to both x and y\n",
        "\n",
        "jax.grad(sum_squared_error, argnums=(0, 1))(x, y)"
      ]
    },
    {
      "cell_type": "markdown",
      "metadata": {
        "id": "yQAMTnZSqo-t"
      },
      "source": [
        "Does this mean that when doing machine learning, we need to write functions with gigantic argument lists, with an argument for each model parameter array? No. JAX comes equipped with machinery for bundling arrays together in data structures called 'pytrees', on which more in a [later guide](https://colab.research.google.com/github/google/jax/blob/main/docs/jax-101/05.1-pytrees.ipynb). So, most often, use of `jax.grad` looks like this:\n",
        "\n",
        "```\n",
        "def loss_fn(params, data):\n",
        "  ...\n",
        "\n",
        "grads = jax.grad(loss_fn)(params, data_batch)\n",
        "```"
      ]
    },
    {
      "cell_type": "markdown",
      "metadata": {
        "id": "oBowiovisT97"
      },
      "source": [
        "where `params` is, for example, a nested dict of arrays, and the returned `grads` is another nested dict of arrays with the same structure."
      ]
    },
    {
      "cell_type": "markdown",
      "metadata": {
        "id": "LNjf9jUEsZZ8"
      },
      "source": [
        "## `value_and_grad` transformation\n",
        "\n",
        "Often, you need to find both the value and the gradient of a function, e.g. if you want to log the training loss. JAX has a handy sister transformation for efficiently doing that:"
      ]
    },
    {
      "cell_type": "code",
      "execution_count": 15,
      "metadata": {
        "id": "dWg4_-h3sYwl",
        "outputId": "b6c0eaa6-d0d0-4a76-f5a8-9475fb3e6674",
        "colab": {
          "base_uri": "https://localhost:8080/"
        }
      },
      "outputs": [
        {
          "output_type": "execute_result",
          "data": {
            "text/plain": [
              "(DeviceArray(0.03999995, dtype=float32),\n",
              " DeviceArray([-0.20000005, -0.19999981, -0.19999981, -0.19999981], dtype=float32))"
            ]
          },
          "metadata": {},
          "execution_count": 15
        }
      ],
      "source": [
        "jax.value_and_grad(sum_squared_error)(x, y)"
      ]
    },
    {
      "cell_type": "markdown",
      "metadata": {
        "id": "QVT2EWHJsvvv"
      },
      "source": [
        "which returns a tuple of, you guessed it, (value, grad). To be precise, for any `f`,\n",
        "\n",
        "```\n",
        "jax.value_and_grad(f)(*xs) == (f(*xs), jax.grad(f)(*xs)) \n",
        "```"
      ]
    },
    {
      "cell_type": "markdown",
      "metadata": {
        "id": "QmHTVpAks3OX"
      },
      "source": [
        "## Auxiliary data\n",
        "\n",
        "In addition to wanting to log the value, we often want to report some intermediate results obtained in computing the loss function. But if we try doing that with regular `jax.grad`, we run into trouble:"
      ]
    },
    {
      "cell_type": "code",
      "execution_count": 19,
      "metadata": {
        "id": "ffGCEzT4st41",
        "tags": [
          "raises-exception"
        ]
      },
      "outputs": [],
      "source": [
        "def squared_error_with_aux(\n",
        "    x: jnp.DeviceArray, y: jnp.DeviceArray\n",
        "        ) -> Tuple[float, jnp.DeviceArray]:\n",
        "    '''Takes two arrays x and y, computes array x - y and\n",
        "    returns the sum of squares of x - y along with x - y.\n",
        "\n",
        "    Args:\n",
        "        x: a jnp.DeviceArray number array\n",
        "        y: a jnp.DeviceArray number array\n",
        "\n",
        "    Returns:\n",
        "        A float number – the sum of squares of all numbers in an array x - y.\n",
        "        An array x - y.\n",
        "    '''\n",
        "    return sum_squared_error(x, y), x - y"
      ]
    },
    {
      "cell_type": "code",
      "source": [
        "jax.grad(squared_error_with_aux)(x, y)"
      ],
      "metadata": {
        "colab": {
          "base_uri": "https://localhost:8080/",
          "height": 579
        },
        "id": "mIRnMaC1vWYW",
        "outputId": "66e7a68a-3b0b-426c-bd98-9680a6a0c648"
      },
      "execution_count": 20,
      "outputs": [
        {
          "output_type": "error",
          "ename": "TypeError",
          "evalue": "ignored",
          "traceback": [
            "\u001b[0;31m---------------------------------------------------------------------------\u001b[0m",
            "\u001b[0;31mTypeError\u001b[0m                                 Traceback (most recent call last)",
            "\u001b[0;32m/usr/local/lib/python3.7/dist-packages/jax/_src/api.py\u001b[0m in \u001b[0;36m_check_scalar\u001b[0;34m(x)\u001b[0m\n\u001b[1;32m    998\u001b[0m   \u001b[0;32mtry\u001b[0m\u001b[0;34m:\u001b[0m\u001b[0;34m\u001b[0m\u001b[0;34m\u001b[0m\u001b[0m\n\u001b[0;32m--> 999\u001b[0;31m     \u001b[0maval\u001b[0m \u001b[0;34m=\u001b[0m \u001b[0mcore\u001b[0m\u001b[0;34m.\u001b[0m\u001b[0mget_aval\u001b[0m\u001b[0;34m(\u001b[0m\u001b[0mx\u001b[0m\u001b[0;34m)\u001b[0m\u001b[0;34m\u001b[0m\u001b[0;34m\u001b[0m\u001b[0m\n\u001b[0m\u001b[1;32m   1000\u001b[0m   \u001b[0;32mexcept\u001b[0m \u001b[0mTypeError\u001b[0m \u001b[0;32mas\u001b[0m \u001b[0me\u001b[0m\u001b[0;34m:\u001b[0m\u001b[0;34m\u001b[0m\u001b[0;34m\u001b[0m\u001b[0m\n",
            "\u001b[0;32m/usr/local/lib/python3.7/dist-packages/jax/core.py\u001b[0m in \u001b[0;36mget_aval\u001b[0;34m(x)\u001b[0m\n\u001b[1;32m   1113\u001b[0m   \u001b[0;32melse\u001b[0m\u001b[0;34m:\u001b[0m\u001b[0;34m\u001b[0m\u001b[0;34m\u001b[0m\u001b[0m\n\u001b[0;32m-> 1114\u001b[0;31m     \u001b[0;32mreturn\u001b[0m \u001b[0mconcrete_aval\u001b[0m\u001b[0;34m(\u001b[0m\u001b[0mx\u001b[0m\u001b[0;34m)\u001b[0m\u001b[0;34m\u001b[0m\u001b[0;34m\u001b[0m\u001b[0m\n\u001b[0m\u001b[1;32m   1115\u001b[0m \u001b[0;34m\u001b[0m\u001b[0m\n",
            "\u001b[0;32m/usr/local/lib/python3.7/dist-packages/jax/core.py\u001b[0m in \u001b[0;36mconcrete_aval\u001b[0;34m(x)\u001b[0m\n\u001b[1;32m   1105\u001b[0m     \u001b[0;32mreturn\u001b[0m \u001b[0mconcrete_aval\u001b[0m\u001b[0;34m(\u001b[0m\u001b[0mx\u001b[0m\u001b[0;34m.\u001b[0m\u001b[0m__jax_array__\u001b[0m\u001b[0;34m(\u001b[0m\u001b[0;34m)\u001b[0m\u001b[0;34m)\u001b[0m\u001b[0;34m\u001b[0m\u001b[0;34m\u001b[0m\u001b[0m\n\u001b[0;32m-> 1106\u001b[0;31m   raise TypeError(f\"Value {repr(x)} with type {type(x)} is not a valid JAX \"\n\u001b[0m\u001b[1;32m   1107\u001b[0m                    \"type\")\n",
            "\u001b[0;31mTypeError\u001b[0m: Value (DeviceArray(0.03999995, dtype=float32), DeviceArray([-0.10000002, -0.0999999 , -0.0999999 , -0.0999999 ], dtype=float32)) with type <class 'tuple'> is not a valid JAX type",
            "\nThe above exception was the direct cause of the following exception:\n",
            "\u001b[0;31mUnfilteredStackTrace\u001b[0m                      Traceback (most recent call last)",
            "\u001b[0;32m<ipython-input-20-144f400c7b86>\u001b[0m in \u001b[0;36m<module>\u001b[0;34m()\u001b[0m\n\u001b[0;32m----> 1\u001b[0;31m \u001b[0mjax\u001b[0m\u001b[0;34m.\u001b[0m\u001b[0mgrad\u001b[0m\u001b[0;34m(\u001b[0m\u001b[0msquared_error_with_aux\u001b[0m\u001b[0;34m)\u001b[0m\u001b[0;34m(\u001b[0m\u001b[0mx\u001b[0m\u001b[0;34m,\u001b[0m \u001b[0my\u001b[0m\u001b[0;34m)\u001b[0m\u001b[0;34m\u001b[0m\u001b[0;34m\u001b[0m\u001b[0m\n\u001b[0m",
            "\u001b[0;32m/usr/local/lib/python3.7/dist-packages/jax/_src/traceback_util.py\u001b[0m in \u001b[0;36mreraise_with_filtered_traceback\u001b[0;34m(*args, **kwargs)\u001b[0m\n\u001b[1;32m    161\u001b[0m     \u001b[0;32mtry\u001b[0m\u001b[0;34m:\u001b[0m\u001b[0;34m\u001b[0m\u001b[0;34m\u001b[0m\u001b[0m\n\u001b[0;32m--> 162\u001b[0;31m       \u001b[0;32mreturn\u001b[0m \u001b[0mfun\u001b[0m\u001b[0;34m(\u001b[0m\u001b[0;34m*\u001b[0m\u001b[0margs\u001b[0m\u001b[0;34m,\u001b[0m \u001b[0;34m**\u001b[0m\u001b[0mkwargs\u001b[0m\u001b[0;34m)\u001b[0m\u001b[0;34m\u001b[0m\u001b[0;34m\u001b[0m\u001b[0m\n\u001b[0m\u001b[1;32m    163\u001b[0m     \u001b[0;32mexcept\u001b[0m \u001b[0mException\u001b[0m \u001b[0;32mas\u001b[0m \u001b[0me\u001b[0m\u001b[0;34m:\u001b[0m\u001b[0;34m\u001b[0m\u001b[0;34m\u001b[0m\u001b[0m\n",
            "\u001b[0;32m/usr/local/lib/python3.7/dist-packages/jax/_src/api.py\u001b[0m in \u001b[0;36mgrad_f\u001b[0;34m(*args, **kwargs)\u001b[0m\n\u001b[1;32m    904\u001b[0m   \u001b[0;32mdef\u001b[0m \u001b[0mgrad_f\u001b[0m\u001b[0;34m(\u001b[0m\u001b[0;34m*\u001b[0m\u001b[0margs\u001b[0m\u001b[0;34m,\u001b[0m \u001b[0;34m**\u001b[0m\u001b[0mkwargs\u001b[0m\u001b[0;34m)\u001b[0m\u001b[0;34m:\u001b[0m\u001b[0;34m\u001b[0m\u001b[0;34m\u001b[0m\u001b[0m\n\u001b[0;32m--> 905\u001b[0;31m     \u001b[0m_\u001b[0m\u001b[0;34m,\u001b[0m \u001b[0mg\u001b[0m \u001b[0;34m=\u001b[0m \u001b[0mvalue_and_grad_f\u001b[0m\u001b[0;34m(\u001b[0m\u001b[0;34m*\u001b[0m\u001b[0margs\u001b[0m\u001b[0;34m,\u001b[0m \u001b[0;34m**\u001b[0m\u001b[0mkwargs\u001b[0m\u001b[0;34m)\u001b[0m\u001b[0;34m\u001b[0m\u001b[0;34m\u001b[0m\u001b[0m\n\u001b[0m\u001b[1;32m    906\u001b[0m     \u001b[0;32mreturn\u001b[0m \u001b[0mg\u001b[0m\u001b[0;34m\u001b[0m\u001b[0;34m\u001b[0m\u001b[0m\n",
            "\u001b[0;32m/usr/local/lib/python3.7/dist-packages/jax/_src/traceback_util.py\u001b[0m in \u001b[0;36mreraise_with_filtered_traceback\u001b[0;34m(*args, **kwargs)\u001b[0m\n\u001b[1;32m    161\u001b[0m     \u001b[0;32mtry\u001b[0m\u001b[0;34m:\u001b[0m\u001b[0;34m\u001b[0m\u001b[0;34m\u001b[0m\u001b[0m\n\u001b[0;32m--> 162\u001b[0;31m       \u001b[0;32mreturn\u001b[0m \u001b[0mfun\u001b[0m\u001b[0;34m(\u001b[0m\u001b[0;34m*\u001b[0m\u001b[0margs\u001b[0m\u001b[0;34m,\u001b[0m \u001b[0;34m**\u001b[0m\u001b[0mkwargs\u001b[0m\u001b[0;34m)\u001b[0m\u001b[0;34m\u001b[0m\u001b[0;34m\u001b[0m\u001b[0m\n\u001b[0m\u001b[1;32m    163\u001b[0m     \u001b[0;32mexcept\u001b[0m \u001b[0mException\u001b[0m \u001b[0;32mas\u001b[0m \u001b[0me\u001b[0m\u001b[0;34m:\u001b[0m\u001b[0;34m\u001b[0m\u001b[0;34m\u001b[0m\u001b[0m\n",
            "\u001b[0;32m/usr/local/lib/python3.7/dist-packages/jax/_src/api.py\u001b[0m in \u001b[0;36mvalue_and_grad_f\u001b[0;34m(*args, **kwargs)\u001b[0m\n\u001b[1;32m    984\u001b[0m           f_partial, *dyn_args, has_aux=True, reduce_axes=reduce_axes)\n\u001b[0;32m--> 985\u001b[0;31m     \u001b[0m_check_scalar\u001b[0m\u001b[0;34m(\u001b[0m\u001b[0mans\u001b[0m\u001b[0;34m)\u001b[0m\u001b[0;34m\u001b[0m\u001b[0;34m\u001b[0m\u001b[0m\n\u001b[0m\u001b[1;32m    986\u001b[0m     \u001b[0mtree_map\u001b[0m\u001b[0;34m(\u001b[0m\u001b[0mpartial\u001b[0m\u001b[0;34m(\u001b[0m\u001b[0m_check_output_dtype_grad\u001b[0m\u001b[0;34m,\u001b[0m \u001b[0mholomorphic\u001b[0m\u001b[0;34m)\u001b[0m\u001b[0;34m,\u001b[0m \u001b[0mans\u001b[0m\u001b[0;34m)\u001b[0m\u001b[0;34m\u001b[0m\u001b[0;34m\u001b[0m\u001b[0m\n",
            "\u001b[0;32m/usr/local/lib/python3.7/dist-packages/jax/_src/api.py\u001b[0m in \u001b[0;36m_check_scalar\u001b[0;34m(x)\u001b[0m\n\u001b[1;32m   1000\u001b[0m   \u001b[0;32mexcept\u001b[0m \u001b[0mTypeError\u001b[0m \u001b[0;32mas\u001b[0m \u001b[0me\u001b[0m\u001b[0;34m:\u001b[0m\u001b[0;34m\u001b[0m\u001b[0;34m\u001b[0m\u001b[0m\n\u001b[0;32m-> 1001\u001b[0;31m     \u001b[0;32mraise\u001b[0m \u001b[0mTypeError\u001b[0m\u001b[0;34m(\u001b[0m\u001b[0mmsg\u001b[0m\u001b[0;34m(\u001b[0m\u001b[0;34mf\"was {x}\"\u001b[0m\u001b[0;34m)\u001b[0m\u001b[0;34m)\u001b[0m \u001b[0;32mfrom\u001b[0m \u001b[0me\u001b[0m\u001b[0;34m\u001b[0m\u001b[0;34m\u001b[0m\u001b[0m\n\u001b[0m\u001b[1;32m   1002\u001b[0m   \u001b[0;32melse\u001b[0m\u001b[0;34m:\u001b[0m\u001b[0;34m\u001b[0m\u001b[0;34m\u001b[0m\u001b[0m\n",
            "\u001b[0;31mUnfilteredStackTrace\u001b[0m: TypeError: Gradient only defined for scalar-output functions. Output was (DeviceArray(0.03999995, dtype=float32), DeviceArray([-0.10000002, -0.0999999 , -0.0999999 , -0.0999999 ], dtype=float32)).\n\nThe stack trace below excludes JAX-internal frames.\nThe preceding is the original exception that occurred, unmodified.\n\n--------------------",
            "\nThe above exception was the direct cause of the following exception:\n",
            "\u001b[0;31mTypeError\u001b[0m                                 Traceback (most recent call last)",
            "\u001b[0;32m<ipython-input-20-144f400c7b86>\u001b[0m in \u001b[0;36m<module>\u001b[0;34m()\u001b[0m\n\u001b[0;32m----> 1\u001b[0;31m \u001b[0mjax\u001b[0m\u001b[0;34m.\u001b[0m\u001b[0mgrad\u001b[0m\u001b[0;34m(\u001b[0m\u001b[0msquared_error_with_aux\u001b[0m\u001b[0;34m)\u001b[0m\u001b[0;34m(\u001b[0m\u001b[0mx\u001b[0m\u001b[0;34m,\u001b[0m \u001b[0my\u001b[0m\u001b[0;34m)\u001b[0m\u001b[0;34m\u001b[0m\u001b[0;34m\u001b[0m\u001b[0m\n\u001b[0m",
            "\u001b[0;31mTypeError\u001b[0m: Gradient only defined for scalar-output functions. Output was (DeviceArray(0.03999995, dtype=float32), DeviceArray([-0.10000002, -0.0999999 , -0.0999999 , -0.0999999 ], dtype=float32))."
          ]
        }
      ]
    },
    {
      "cell_type": "markdown",
      "metadata": {
        "id": "IUubno3nth4i"
      },
      "source": [
        "This is because `jax.grad` is only defined on scalar functions, and our new function returns a tuple. But we need to return a tuple to return our intermediate results! This is where `has_aux` comes in:"
      ]
    },
    {
      "cell_type": "code",
      "execution_count": 21,
      "metadata": {
        "id": "uzUFihyatgiF",
        "outputId": "e70fe0dc-f46b-4f92-a82a-ef92301dd4c8",
        "colab": {
          "base_uri": "https://localhost:8080/"
        }
      },
      "outputs": [
        {
          "output_type": "execute_result",
          "data": {
            "text/plain": [
              "(DeviceArray([-0.20000005, -0.19999981, -0.19999981, -0.19999981], dtype=float32),\n",
              " DeviceArray([-0.10000002, -0.0999999 , -0.0999999 , -0.0999999 ], dtype=float32))"
            ]
          },
          "metadata": {},
          "execution_count": 21
        }
      ],
      "source": [
        "jax.grad(squared_error_with_aux, has_aux=True)(x, y)"
      ]
    },
    {
      "cell_type": "markdown",
      "metadata": {
        "id": "g5s3UiFauwDk"
      },
      "source": [
        "`has_aux` signifies that the function returns a pair, `(out, aux)`. It makes `jax.grad` ignore `aux`, passing it through to the user, while differentiating the function as if only `out` was returned."
      ]
    },
    {
      "cell_type": "markdown",
      "metadata": {
        "id": "fk4FUXe7vsW4"
      },
      "source": [
        "## Differences from NumPy\n",
        "\n",
        "The `jax.numpy` API closely follows that of NumPy. However, there are some important differences. We cover many of these in future guides, but it's worth pointing some out now.\n",
        "\n",
        "The most important difference, and in some sense the root of all the rest, is that JAX is designed to be _functional_, as in _functional programming_. The reason behind this is that the kinds of program transformations that JAX enables are much more feasible in functional-style programs.\n",
        "\n",
        "An introduction to functional programming (FP) is out of scope of this guide. If you already are familiar with FP, you will find your FP intuition helpful while learning JAX. If not, don't worry! The important feature of functional programming to grok when working with JAX is very simple: don't write code with side-effects.\n",
        "\n",
        "A side-effect is any effect of a function that doesn't appear in its output. One example is modifying an array in place:"
      ]
    },
    {
      "cell_type": "code",
      "execution_count": 22,
      "metadata": {
        "id": "o_YBuLQC1wPJ"
      },
      "outputs": [],
      "source": [
        "x = np.array([1, 2, 3])"
      ]
    },
    {
      "cell_type": "code",
      "source": [
        "def in_place_modify(x: jnp.DeviceArray) -> None:\n",
        "    '''Takes a number array, replaces its first element with 123, returns None.\n",
        "\n",
        "    Args:\n",
        "        x: a jnp.DeviceArray number array\n",
        "    '''\n",
        "    x[0] = 123\n",
        "    return None"
      ],
      "metadata": {
        "id": "spo3szcZw3XK"
      },
      "execution_count": 23,
      "outputs": []
    },
    {
      "cell_type": "code",
      "source": [
        "in_place_modify(x)\n",
        "x"
      ],
      "metadata": {
        "colab": {
          "base_uri": "https://localhost:8080/"
        },
        "id": "grY3aad1w4wU",
        "outputId": "c0abb7af-b6d7-42e2-f51c-3fe234b1f0ca"
      },
      "execution_count": 24,
      "outputs": [
        {
          "output_type": "execute_result",
          "data": {
            "text/plain": [
              "array([123,   2,   3])"
            ]
          },
          "metadata": {},
          "execution_count": 24
        }
      ]
    },
    {
      "cell_type": "markdown",
      "metadata": {
        "id": "JTtUihVZ13F6"
      },
      "source": [
        "The side-effectful function modifies its argument, but returns a completely unrelated value. The modification is a side-effect. \n",
        "\n",
        "The code below will run in NumPy. However, JAX arrays won't allow themselves to be modified in-place:"
      ]
    },
    {
      "cell_type": "code",
      "execution_count": 25,
      "metadata": {
        "id": "u6grTYIVcZ3f",
        "tags": [
          "raises-exception"
        ],
        "outputId": "60e4ed48-b979-4387-fbdd-3d649bc79a21",
        "colab": {
          "base_uri": "https://localhost:8080/",
          "height": 341
        }
      },
      "outputs": [
        {
          "output_type": "error",
          "ename": "TypeError",
          "evalue": "ignored",
          "traceback": [
            "\u001b[0;31m---------------------------------------------------------------------------\u001b[0m",
            "\u001b[0;31mTypeError\u001b[0m                                 Traceback (most recent call last)",
            "\u001b[0;32m<ipython-input-25-709e2d7ddd3f>\u001b[0m in \u001b[0;36m<module>\u001b[0;34m()\u001b[0m\n\u001b[0;32m----> 1\u001b[0;31m \u001b[0min_place_modify\u001b[0m\u001b[0;34m(\u001b[0m\u001b[0mjnp\u001b[0m\u001b[0;34m.\u001b[0m\u001b[0marray\u001b[0m\u001b[0;34m(\u001b[0m\u001b[0mx\u001b[0m\u001b[0;34m)\u001b[0m\u001b[0;34m)\u001b[0m  \u001b[0;31m# Raises error when we cast input to jnp.ndarray\u001b[0m\u001b[0;34m\u001b[0m\u001b[0;34m\u001b[0m\u001b[0m\n\u001b[0m",
            "\u001b[0;32m<ipython-input-23-a8ba6471350f>\u001b[0m in \u001b[0;36min_place_modify\u001b[0;34m(x)\u001b[0m\n\u001b[1;32m      5\u001b[0m         \u001b[0mx\u001b[0m\u001b[0;34m:\u001b[0m \u001b[0ma\u001b[0m \u001b[0mjnp\u001b[0m\u001b[0;34m.\u001b[0m\u001b[0mDeviceArray\u001b[0m \u001b[0mnumber\u001b[0m \u001b[0marray\u001b[0m\u001b[0;34m\u001b[0m\u001b[0;34m\u001b[0m\u001b[0m\n\u001b[1;32m      6\u001b[0m     '''\n\u001b[0;32m----> 7\u001b[0;31m     \u001b[0mx\u001b[0m\u001b[0;34m[\u001b[0m\u001b[0;36m0\u001b[0m\u001b[0;34m]\u001b[0m \u001b[0;34m=\u001b[0m \u001b[0;36m123\u001b[0m\u001b[0;34m\u001b[0m\u001b[0;34m\u001b[0m\u001b[0m\n\u001b[0m\u001b[1;32m      8\u001b[0m     \u001b[0;32mreturn\u001b[0m \u001b[0;32mNone\u001b[0m\u001b[0;34m\u001b[0m\u001b[0;34m\u001b[0m\u001b[0m\n",
            "\u001b[0;32m/usr/local/lib/python3.7/dist-packages/jax/_src/numpy/lax_numpy.py\u001b[0m in \u001b[0;36m_unimplemented_setitem\u001b[0;34m(self, i, x)\u001b[0m\n\u001b[1;32m   4564\u001b[0m          \u001b[0;34m\"or another .at[] method: \"\u001b[0m\u001b[0;34m\u001b[0m\u001b[0;34m\u001b[0m\u001b[0m\n\u001b[1;32m   4565\u001b[0m          \"https://jax.readthedocs.io/en/latest/_autosummary/jax.numpy.ndarray.at.html\")\n\u001b[0;32m-> 4566\u001b[0;31m   \u001b[0;32mraise\u001b[0m \u001b[0mTypeError\u001b[0m\u001b[0;34m(\u001b[0m\u001b[0mmsg\u001b[0m\u001b[0;34m.\u001b[0m\u001b[0mformat\u001b[0m\u001b[0;34m(\u001b[0m\u001b[0mtype\u001b[0m\u001b[0;34m(\u001b[0m\u001b[0mself\u001b[0m\u001b[0;34m)\u001b[0m\u001b[0;34m)\u001b[0m\u001b[0;34m)\u001b[0m\u001b[0;34m\u001b[0m\u001b[0;34m\u001b[0m\u001b[0m\n\u001b[0m\u001b[1;32m   4567\u001b[0m \u001b[0;34m\u001b[0m\u001b[0m\n\u001b[1;32m   4568\u001b[0m \u001b[0;32mdef\u001b[0m \u001b[0m_operator_round\u001b[0m\u001b[0;34m(\u001b[0m\u001b[0mnumber\u001b[0m\u001b[0;34m,\u001b[0m \u001b[0mndigits\u001b[0m\u001b[0;34m=\u001b[0m\u001b[0;32mNone\u001b[0m\u001b[0;34m)\u001b[0m\u001b[0;34m:\u001b[0m\u001b[0;34m\u001b[0m\u001b[0;34m\u001b[0m\u001b[0m\n",
            "\u001b[0;31mTypeError\u001b[0m: '<class 'jaxlib.xla_extension.DeviceArray'>' object does not support item assignment. JAX arrays are immutable. Instead of ``x[idx] = y``, use ``x = x.at[idx].set(y)`` or another .at[] method: https://jax.readthedocs.io/en/latest/_autosummary/jax.numpy.ndarray.at.html"
          ]
        }
      ],
      "source": [
        "in_place_modify(jnp.array(x))  # Raises error when we cast input to jnp.ndarray"
      ]
    },
    {
      "cell_type": "markdown",
      "metadata": {
        "id": "RGqVfYSpc49s"
      },
      "source": [
        "Helpfully, the error points us to JAX's side-effect-free way of doing the same thing via the [`jax.numpy.ndarray.at`](https://jax.readthedocs.io/en/latest/_autosummary/jax.numpy.ndarray.at.html) index update operators (be careful [`jax.ops.index_*`](https://jax.readthedocs.io/en/latest/jax.ops.html#indexed-update-functions-deprecated) functions are deprecated). They are analogous to in-place modification by index, but create a new array with the corresponding modifications made:"
      ]
    },
    {
      "cell_type": "code",
      "execution_count": 26,
      "metadata": {
        "id": "Rmklk6BB2xF0"
      },
      "outputs": [],
      "source": [
        "def jax_in_place_modify(x: jnp.DeviceArray) -> jnp.DeviceArray:\n",
        "    '''Takes a number array and returns its copy\n",
        "    with the first element replaced by 123.\n",
        "\n",
        "    Args:\n",
        "        x: a jnp.DeviceArray number array\n",
        "\n",
        "    Returns:\n",
        "        jnp.DeviceArray number array – a copy of x,\n",
        "        but with the first element replaced by 123.\n",
        "    '''\n",
        "    return x.at[0].set(123)"
      ]
    },
    {
      "cell_type": "code",
      "source": [
        "y = jnp.array([1, 2, 3])\n",
        "jax_in_place_modify(y)"
      ],
      "metadata": {
        "colab": {
          "base_uri": "https://localhost:8080/"
        },
        "id": "M6DgQZy5xYMA",
        "outputId": "08efd155-4182-4611-c009-04f1064b7cc5"
      },
      "execution_count": 27,
      "outputs": [
        {
          "output_type": "execute_result",
          "data": {
            "text/plain": [
              "DeviceArray([123,   2,   3], dtype=int32)"
            ]
          },
          "metadata": {},
          "execution_count": 27
        }
      ]
    },
    {
      "cell_type": "markdown",
      "metadata": {
        "id": "91tn_25vdrNf"
      },
      "source": [
        "Note that the old array was untouched, so there is no side-effect:"
      ]
    },
    {
      "cell_type": "code",
      "execution_count": 28,
      "metadata": {
        "id": "KQGXig4Hde6T",
        "outputId": "34dd56ce-c0a8-4a23-cd48-2ff1d3bad96c",
        "colab": {
          "base_uri": "https://localhost:8080/"
        }
      },
      "outputs": [
        {
          "output_type": "execute_result",
          "data": {
            "text/plain": [
              "DeviceArray([1, 2, 3], dtype=int32)"
            ]
          },
          "metadata": {},
          "execution_count": 28
        }
      ],
      "source": [
        "y"
      ]
    },
    {
      "cell_type": "markdown",
      "metadata": {
        "id": "d5TibzPO25qa"
      },
      "source": [
        "Side-effect-free code is sometimes called *functionally pure*, or just *pure*.\n",
        "\n",
        "Isn't the pure version less efficient? Strictly, yes; we are creating a new array. However, as we will explain in the next guide, JAX computations are often compiled before being run using another program transformation, `jax.jit`. If we don't use the old array after modifying it 'in place' using indexed update operators, the compiler can recognise that it can in fact compile to an in-place modify, resulting in efficient code in the end.\n",
        "\n",
        "Of course, it's possible to mix side-effectful Python code and functionally pure JAX code, and we will touch on this more later. As you get more familiar with JAX, you will learn how and when this can work. As a rule of thumb, however, any functions intended to be transformed by JAX should avoid side-effects, and the JAX primitives themselves will try to help you do that.\n",
        "\n",
        "We will explain other places where the JAX idiosyncracies become relevant as they come up. There is even a section that focuses entirely on getting used to the functional programming style of handling state: [Part 7: Problem of State](https://colab.research.google.com/github/google/jax/blob/main/docs/jax-101/07-state.ipynb). However, if you're impatient, you can find a [summary of JAX's sharp edges](https://jax.readthedocs.io/en/latest/notebooks/Common_Gotchas_in_JAX.html) in the JAX docs."
      ]
    },
    {
      "cell_type": "markdown",
      "metadata": {
        "id": "dFn_VBFFlGCz"
      },
      "source": [
        "## Your first JAX training loop\n",
        "\n",
        "We still have much to learn about JAX, but you already know enough to understand how we can use JAX to build a simple training loop.\n",
        "\n",
        "To keep things simple, we'll start with a linear regression. \n",
        "\n",
        "Our data is sampled according to $y = w_{true} x + b_{true} + \\epsilon$."
      ]
    },
    {
      "cell_type": "code",
      "execution_count": 31,
      "metadata": {
        "id": "WGgyEWFqrPq1",
        "outputId": "d4740b7c-ecc5-4ed1-cd4f-f0731dc043fb",
        "colab": {
          "base_uri": "https://localhost:8080/",
          "height": 592
        }
      },
      "outputs": [
        {
          "output_type": "display_data",
          "data": {
            "text/plain": [
              "<Figure size 1296x720 with 1 Axes>"
            ],
            "image/png": "[encoded data removed]"
          },
          "metadata": {
            "needs_background": "light"
          }
        }
      ],
      "source": [
        "xs = np.random.normal(size=(100,))\n",
        "noise = np.random.normal(scale=0.1, size=(100,))\n",
        "ys = xs * 3 - 1 + noise\n",
        "\n",
        "plt.scatter(xs, ys);"
      ]
    },
    {
      "cell_type": "markdown",
      "metadata": {
        "id": "RTh22mo4rR1x"
      },
      "source": [
        "Therefore, our model is $\\hat y(x; \\theta) = wx + b$.\n",
        "\n",
        "We will use a single array, `theta = [w, b]` to house both parameters:"
      ]
    },
    {
      "cell_type": "code",
      "execution_count": 32,
      "metadata": {
        "id": "TnVrRTMamyzb"
      },
      "outputs": [],
      "source": [
        "def model(theta: jnp.DeviceArray, x: jnp.DeviceArray):\n",
        "    '''Computes wx + b on a batch of input x.\n",
        "\n",
        "    Args:\n",
        "        theta: a single jnp.DeviceArray number array = [w, b]\n",
        "        x: a jnp.DeviceArray number array\n",
        "\n",
        "    Returns:\n",
        "        A jnp.DeviceArray number array wx + b\n",
        "    '''\n",
        "    w, b = theta\n",
        "    return w * x + b"
      ]
    },
    {
      "cell_type": "markdown",
      "metadata": {
        "id": "qCrLmmKrn9_h"
      },
      "source": [
        "The loss function is $J(x, y; \\theta) = (\\hat y - y)^2$."
      ]
    },
    {
      "cell_type": "code",
      "execution_count": 35,
      "metadata": {
        "id": "07eMcDLMn9Ww"
      },
      "outputs": [],
      "source": [
        "def loss_fn(\n",
        "    theta: jnp.DeviceArray, x: jnp.DeviceArray, y: jnp.DeviceArray\n",
        "        ) -> float:\n",
        "    '''The loss function for the model() function\n",
        "\n",
        "    Args:\n",
        "        theta: a single jnp.DeviceArray number array = [w, b]\n",
        "        x: a jnp.DeviceArray number array\n",
        "        y: a jnp.DeviceArray number array\n",
        "\n",
        "    Returns:\n",
        "        The mean squared error for the predictions of the function model().\n",
        "    '''\n",
        "    prediction = model(theta, x)\n",
        "    return jnp.mean((prediction - y) ** 2)"
      ]
    },
    {
      "cell_type": "markdown",
      "metadata": {
        "id": "ejMt4dulnoYX"
      },
      "source": [
        "How do we optimize a loss function? Using gradient descent. At each update step, we will find the gradient of the loss w.r.t. the parameters, and take a small step in the direction of steepest descent:\n",
        "\n",
        "$$\\theta_{new} = \\theta - 0.1 (\\nabla_\\theta J) (x, y; \\theta)$$"
      ]
    },
    {
      "cell_type": "code",
      "execution_count": 37,
      "metadata": {
        "id": "2I6T5Wphpaaa"
      },
      "outputs": [],
      "source": [
        "@jax.jit\n",
        "def update(\n",
        "    theta: jnp.DeviceArray, x: jnp.DeviceArray, y: jnp.DeviceArray,\n",
        "    lr: float = 0.1\n",
        "        ) -> jnp.DeviceArray:\n",
        "    '''Finds the gradient of the model() function loss function with respect\n",
        "    to the parameters, and take a small step in the direction\n",
        "    of the steepest descent.\n",
        "\n",
        "    Args:\n",
        "        theta: a single jnp.DeviceArray number array = [w, b]\n",
        "        x: a jnp.DeviceArray number array\n",
        "        y: a jnp.DeviceArray number array\n",
        "        lr: learning rate, a floating number, default 0.1\n",
        "\n",
        "    Returns:\n",
        "        Updated theta array.\n",
        "    '''\n",
        "    return theta - lr * jax.grad(loss_fn)(theta, x, y)"
      ]
    },
    {
      "cell_type": "markdown",
      "metadata": {
        "id": "MAUL1gT_opVn"
      },
      "source": [
        "In JAX, it's common to define an `update()` function that is called every step, taking the current parameters as input and returning the new parameters. This is a natural consequence of JAX's functional nature, and is explained in more detail in [The Problem of State](https://colab.research.google.com/github/google/jax/blob/main/docs/jax-101/07-state.ipynb).\n",
        "\n",
        "This function can then be JIT-compiled in its entirety for maximum efficiency. The next guide will explain exactly how `jax.jit` works, but if you want to, you can try adding `@jax.jit` before the `update()` definition, and see how the training loop below runs much faster."
      ]
    },
    {
      "cell_type": "code",
      "execution_count": 39,
      "metadata": {
        "id": "WLZxY7nIpuVW",
        "outputId": "4ee8a7f4-3fc1-41e3-a3c4-e28b23e6ea78",
        "colab": {
          "base_uri": "https://localhost:8080/"
        }
      },
      "outputs": [
        {
          "output_type": "stream",
          "name": "stdout",
          "text": [
            "1 loop, best of 5: 206 ms per loop\n"
          ]
        }
      ],
      "source": [
        "%%timeit\n",
        "theta = jnp.array([1., 1.])\n",
        "\n",
        "for _ in range(1000):\n",
        "  theta = update(theta, xs, ys)"
      ]
    },
    {
      "cell_type": "code",
      "source": [
        "plt.scatter(xs, ys)\n",
        "plt.plot(xs, model(theta, xs))\n",
        "\n",
        "w, b = theta\n",
        "print(f'w: {w:<.2f}, b: {b:<.2f}')"
      ],
      "metadata": {
        "colab": {
          "base_uri": "https://localhost:8080/",
          "height": 609
        },
        "id": "pxMFasfZ1LZj",
        "outputId": "fafac4c6-63a0-4c53-de57-d3bd1c64c46d"
      },
      "execution_count": 40,
      "outputs": [
        {
          "output_type": "stream",
          "name": "stdout",
          "text": [
            "w: 3.00, b: -1.00\n"
          ]
        },
        {
          "output_type": "display_data",
          "data": {
            "text/plain": [
              "<Figure size 1296x720 with 1 Axes>"
            ],
            "image/png": "[encoded data removed]"
          },
          "metadata": {
            "needs_background": "light"
          }
        }
      ]
    },
    {
      "cell_type": "markdown",
      "metadata": {
        "id": "5-q17kJ_rjLc"
      },
      "source": [
        "As you will see going through these guides, this basic recipe underlies almost all training loops you'll see implemented in JAX. The main difference between this example and real training loops is the simplicity of our model: that allows us to use a single array to house all our parameters. We cover managing more parameters in the later [pytree guide](https://colab.research.google.com/github/google/jax/blob/main/docs/jax-101/05.1-pytrees.ipynb). Feel free to skip forward to that guide now to see how to manually define and train a simple MLP in JAX."
      ]
    }
  ],
  "metadata": {
    "colab": {
      "collapsed_sections": [
        "CXjHL4L6ku3-",
        "PkCpI-v0uQQO",
        "LNjf9jUEsZZ8",
        "QmHTVpAks3OX",
        "fk4FUXe7vsW4",
        "dFn_VBFFlGCz"
      ],
      "name": "Jax Basics.ipynb",
      "provenance": []
    },
    "jupytext": {
      "formats": "ipynb,md:myst"
    },
    "kernelspec": {
      "display_name": "Python 3",
      "name": "python3"
    },
    "language_info": {
      "codemirror_mode": {
        "name": "ipython",
        "version": 3
      },
      "file_extension": ".py",
      "mimetype": "text/x-python",
      "name": "python",
      "nbconvert_exporter": "python",
      "pygments_lexer": "ipython3",
      "version": "3.7.6"
    },
    "accelerator": "GPU",
    "gpuClass": "standard"
  },
  "nbformat": 4,
  "nbformat_minor": 0
}