{
  "nbformat": 4,
  "nbformat_minor": 0,
  "metadata": {
    "colab": {
      "name": "confidence_intervals.ipynb",
      "provenance": [],
      "collapsed_sections": [
        "CYSTId4if6Zx",
        "S2VdLf3GgBaB",
        "lXjVnPDPgJOQ",
        "rxQxq5p8gX-O",
        "TvvQzz7igeHw",
        "OWDxrp5EgkcX",
        "D32r8DrBgpOA"
      ]
    },
    "kernelspec": {
      "name": "python3",
      "display_name": "Python 3"
    },
    "language_info": {
      "name": "python"
    },
    "accelerator": "GPU"
  },
  "cells": [
    {
      "cell_type": "code",
      "execution_count": 1,
      "metadata": {
        "id": "FdVwOW0yYJPv"
      },
      "outputs": [],
      "source": [
        "from itertools import product\n",
        "from typing import Callable\n",
        "\n",
        "import matplotlib.pyplot as plt\n",
        "import numpy as np\n",
        "import pandas as pd\n",
        "import scipy.stats\n",
        "from mlxtend.data import iris_data\n",
        "from sklearn.datasets import make_classification\n",
        "from sklearn.metrics import accuracy_score\n",
        "from sklearn.model_selection import train_test_split\n",
        "from sklearn.tree import DecisionTreeClassifier\n",
        "\n",
        "%matplotlib inline"
      ]
    },
    {
      "cell_type": "markdown",
      "source": [
        "Different approaches to constructing **confidence intervals**, as shown on the [Iris dataset](https://archive.ics.uci.edu/ml/datasets/iris) and a [decision tree classifier](https://scikit-learn.org/stable/modules/generated/sklearn.tree.DecisionTreeClassifier.html).<br>\n",
        "In this notebook, we will create confidence intervals for the accuracy of the classifier.<br>\n",
        "Source: [Creating Confidence Intervals for Machine Learning Classifiers, *Sebastian Raschka*](https://sebastianraschka.com/blog/2022/confidence-intervals-for-ml.html?utm_campaign=Data_Elixir&utm_source=Data_Elixir_384#method-3--bootstrapping-the-test-set-predictions)"
      ],
      "metadata": {
        "id": "g4uQ5F8zY_WL"
      }
    },
    {
      "cell_type": "code",
      "source": [
        "X, y = iris_data()\n",
        "\n",
        "X_train, X_test, y_train, y_test = train_test_split(\n",
        "    X, y, random_state=42, stratify=y\n",
        ")\n",
        "\n",
        "clf = DecisionTreeClassifier(random_state=42)"
      ],
      "metadata": {
        "id": "-_lMts1EZ7Ye"
      },
      "execution_count": 2,
      "outputs": []
    },
    {
      "cell_type": "code",
      "source": [
        "results = []"
      ],
      "metadata": {
        "id": "2KbOIP5ti6oC"
      },
      "execution_count": 3,
      "outputs": []
    },
    {
      "cell_type": "markdown",
      "source": [
        "# Normal Approximation Interval Based on a Test Set\n",
        "This confidence interval is computed from a single training-test split. The equation for the confidence interval for the classifier accuracy on the test set is as follows:\n",
        "$$ACC_{test}\\pm z\\sqrt{\\frac{1}{n}ACC_{test}(1 - ACC_{test})}$$\n",
        "where\n",
        "\n",
        "* $z$ is the number of standard deviations that a value lies from the mean of a standard normal distribution;\n",
        "* $n$ is the test set size."
      ],
      "metadata": {
        "id": "zdll7bB0ftmE"
      }
    },
    {
      "cell_type": "code",
      "source": [
        "confidence = 0.95\n",
        "z_value = scipy.stats.norm.ppf((1 + confidence) / 2.0)\n",
        "print(f\"Z-value: {z_value}\")"
      ],
      "metadata": {
        "colab": {
          "base_uri": "https://localhost:8080/"
        },
        "id": "dJeeWWotfxlN",
        "outputId": "b5eaaf2a-9228-441f-8ee2-aa15dd774eba"
      },
      "execution_count": 4,
      "outputs": [
        {
          "output_type": "stream",
          "name": "stdout",
          "text": [
            "Z-value: 1.959963984540054\n"
          ]
        }
      ]
    },
    {
      "cell_type": "code",
      "source": [
        "clf.fit(X_train, y_train)\n",
        "\n",
        "acc_test = clf.score(X_test, y_test)\n",
        "ci_length = z_value * np.sqrt((acc_test * (1 - acc_test)) / y_test.shape[0])\n",
        "\n",
        "ci_lower = acc_test - ci_length\n",
        "ci_upper = acc_test + ci_length\n",
        "\n",
        "print(f\"Lower 95% CI: {ci_lower}\")\n",
        "print(f\"Upper 95% CI: {ci_upper}\")"
      ],
      "metadata": {
        "colab": {
          "base_uri": "https://localhost:8080/"
        },
        "id": "9y8zvUn0mHeN",
        "outputId": "767bd941-1ecf-4b4c-c2da-ca390f1c5008"
      },
      "execution_count": 5,
      "outputs": [
        {
          "output_type": "stream",
          "name": "stdout",
          "text": [
            "Lower 95% CI: 0.7971610354461997\n",
            "Upper 95% CI: 0.9923126487643267\n"
          ]
        }
      ]
    },
    {
      "cell_type": "code",
      "source": [
        "fig, ax = plt.subplots(figsize=(7, 3))\n",
        "\n",
        "ax.errorbar(acc_test, 0, xerr=ci_length, fmt=\"o\")\n",
        "\n",
        "ax.set_xlim([0.8, 1.0])\n",
        "\n",
        "ax.set_yticks(np.arange(1))\n",
        "ax.set_yticklabels([\"Normal approximation interval\"])\n",
        "ax.set_xlabel(\"Prediction accuracy on a test set\")\n",
        "\n",
        "plt.tight_layout()\n",
        "plt.grid(axis=\"x\")\n",
        "plt.show()"
      ],
      "metadata": {
        "colab": {
          "base_uri": "https://localhost:8080/",
          "height": 225
        },
        "id": "AsMZVEc7m8FR",
        "outputId": "bb41f4aa-49ff-4d89-e3c3-3812939c94c1"
      },
      "execution_count": 6,
      "outputs": [
        {
          "output_type": "display_data",
          "data": {
            "text/plain": [
              "<Figure size 504x216 with 1 Axes>"
            ],
            "image/png": "[encoded data removed]"
          },
          "metadata": {
            "needs_background": "light"
          }
        }
      ]
    },
    {
      "cell_type": "code",
      "source": [
        "results.append({\n",
        "    \"method\": \"Normal approximation\",\n",
        "    \"acc_test\": acc_test,\n",
        "    \"ci_lower\": ci_lower,\n",
        "    \"ci_upper\": ci_upper\n",
        "})"
      ],
      "metadata": {
        "id": "6h8ZuOQqnR1A"
      },
      "execution_count": 7,
      "outputs": []
    },
    {
      "cell_type": "markdown",
      "source": [
        "# Bootstrapping Training Sets\n",
        "**Bootstrapping** is a method of estimating the sampling distribution by taking multiple samples with replacement from a single random sample. The equation for the average classifier accuracy on bootstrapped data is as follows:\n",
        "$$ACC_{bootavg}=\\frac{1}{b}\\sum_{j=1}^{b}ACC_{boot j}$$\n",
        "where\n",
        "\n",
        "* $b$ is the number of bootstrap rounds (usually recommended to be at least $200$);\n",
        "* $ACC_{boot j}$ is the classifier accuracy computed at the $j$-th round."
      ],
      "metadata": {
        "id": "zuWXbVnZf1Ro"
      }
    },
    {
      "cell_type": "markdown",
      "source": [
        "## Data Preparation"
      ],
      "metadata": {
        "id": "CYSTId4if6Zx"
      }
    },
    {
      "cell_type": "code",
      "source": [
        "rng = np.random.RandomState(seed=42)\n",
        "idx = np.arange(y_train.shape[0])\n",
        "\n",
        "bootstrap_train_accuracies = []\n",
        "bootstrap_rounds = 200\n",
        "\n",
        "\n",
        "for i in range(bootstrap_rounds):\n",
        "\n",
        "    train_idx = rng.choice(idx, size=idx.shape[0], replace=True)\n",
        "    valid_idx = np.setdiff1d(idx, train_idx, assume_unique=False)\n",
        "\n",
        "    boot_train_X, boot_train_y = X_train[train_idx], y_train[train_idx]\n",
        "    boot_valid_X, boot_valid_y = X_train[valid_idx], y_train[valid_idx]\n",
        "\n",
        "    clf.fit(boot_train_X, boot_train_y)\n",
        "    acc = clf.score(boot_valid_X, boot_valid_y)\n",
        "    bootstrap_train_accuracies.append(acc)\n",
        "\n",
        "bootstrap_train_mean = np.mean(bootstrap_train_accuracies)"
      ],
      "metadata": {
        "id": "s6dvvJBfgBMk"
      },
      "execution_count": 8,
      "outputs": []
    },
    {
      "cell_type": "code",
      "source": [
        "fig, ax = plt.subplots(figsize=(12, 8))\n",
        "\n",
        "ax.vlines(bootstrap_train_mean, [0], 80, lw=2.5, linestyle=\"-\", label=\"Mean\")\n",
        "\n",
        "ax.hist(\n",
        "    bootstrap_train_accuracies, bins=7,\n",
        "    color=\"#0080ff\", edgecolor=\"none\", alpha=0.3\n",
        ")\n",
        "\n",
        "plt.xlabel('Accuracy on the bootstrapped train data')\n",
        "plt.ylabel('Count')\n",
        "plt.xlim([0.8, 1.1])\n",
        "\n",
        "plt.legend(loc=\"upper left\")\n",
        "plt.grid()\n",
        "plt.show()"
      ],
      "metadata": {
        "colab": {
          "base_uri": "https://localhost:8080/",
          "height": 54
        },
        "id": "owSRNeKKyLwy",
        "outputId": "84aec978-b4ef-40fb-adb0-4a4e5951c35b"
      },
      "execution_count": 9,
      "outputs": [
        {
          "output_type": "display_data",
          "data": {
            "text/plain": [
              "<Figure size 864x576 with 1 Axes>"
            ],
            "image/png": "[encoded data removed]"
          },
          "metadata": {
            "needs_background": "light"
          }
        }
      ]
    },
    {
      "cell_type": "markdown",
      "source": [
        "## A *t* Confidence Interval from Bootstrap Samples\n",
        "The equation for a $t$ confidence interval for a classifier accuracy from train bootstrap samples is as follows:\n",
        "$$ACC_{test}=\\pm t\\times\\sqrt{\\frac{1}{b - 1}\\sum_{j=1}^{b}\\big(ACC_{boot j}-ACC_{bootavg}\\big)^2}$$\n",
        "where\n",
        "\n",
        "* $t$ is [*t-statistic*](https://en.wikipedia.org/wiki/T-statistic);\n",
        "* $b$ is the number of bootstrap rounds;\n",
        "* $ACC_{boot j}$ is the classifier accuracy computed at the $j$-th round."
      ],
      "metadata": {
        "id": "S2VdLf3GgBaB"
      }
    },
    {
      "cell_type": "code",
      "source": [
        "confidence = 0.95\n",
        "t_value = scipy.stats.t.ppf((1 + confidence) / 2.0, df=bootstrap_rounds - 1)\n",
        "print(f\"t-value: {t_value}\")"
      ],
      "metadata": {
        "colab": {
          "base_uri": "https://localhost:8080/"
        },
        "id": "EzKnKCZlgJCd",
        "outputId": "5b219b52-3c17-40d7-bcb6-49dd2111e70e"
      },
      "execution_count": 10,
      "outputs": [
        {
          "output_type": "stream",
          "name": "stdout",
          "text": [
            "t-value: 1.971956544249395\n"
          ]
        }
      ]
    },
    {
      "cell_type": "code",
      "source": [
        "se = 0.0\n",
        "\n",
        "for acc in bootstrap_train_accuracies:\n",
        "    se += (acc - bootstrap_train_mean) ** 2\n",
        "se = np.sqrt((1.0 / (bootstrap_rounds - 1)) * se)\n",
        "\n",
        "ci_length = t_value * se\n",
        "\n",
        "ci_lower = bootstrap_train_mean - ci_length\n",
        "ci_upper = bootstrap_train_mean + ci_length\n",
        "\n",
        "print(f\"Lower 95% CI: {ci_lower}\")\n",
        "print(f\"Upper 95% CI: {ci_upper}\")"
      ],
      "metadata": {
        "colab": {
          "base_uri": "https://localhost:8080/"
        },
        "id": "5LuWbvF97Ox1",
        "outputId": "ccaacd26-57a7-49dc-8ac7-df7e74820d7c"
      },
      "execution_count": 11,
      "outputs": [
        {
          "output_type": "stream",
          "name": "stdout",
          "text": [
            "Lower 95% CI: 0.866115852291848\n",
            "Upper 95% CI: 1.0115869075458848\n"
          ]
        }
      ]
    },
    {
      "cell_type": "code",
      "source": [
        "fig, ax = plt.subplots(figsize=(12, 8))\n",
        "ax.vlines(bootstrap_train_mean, [0], 80, lw=2.5, linestyle=\"-\", label=\"Mean\")\n",
        "\n",
        "ax.vlines(\n",
        "    ci_lower, [0], 15, lw=2.5, linestyle=\"dotted\", label=\"95% CI\", color=\"C2\"\n",
        "    )\n",
        "\n",
        "ax.vlines(ci_upper, [0], 15, lw=2.5, linestyle=\"dotted\", color=\"C2\")\n",
        "\n",
        "ax.hist(\n",
        "    bootstrap_train_accuracies, bins=7,\n",
        "    color=\"#0080ff\", edgecolor=\"none\", alpha=0.3\n",
        ")\n",
        "\n",
        "plt.xlabel('Accuracy on the bootstrapped train data')\n",
        "plt.ylabel('Count')\n",
        "plt.xlim([0.8, 1.1])\n",
        "\n",
        "plt.legend(loc=\"upper left\")\n",
        "\n",
        "plt.grid()\n",
        "plt.show()"
      ],
      "metadata": {
        "colab": {
          "base_uri": "https://localhost:8080/",
          "height": 497
        },
        "id": "ezyQvS8w7nOi",
        "outputId": "aaadf9ca-5559-4fe1-b629-e0cd2c97b965"
      },
      "execution_count": 12,
      "outputs": [
        {
          "output_type": "display_data",
          "data": {
            "text/plain": [
              "<Figure size 864x576 with 1 Axes>"
            ],
            "image/png": "[encoded data removed]"
          },
          "metadata": {
            "needs_background": "light"
          }
        }
      ]
    },
    {
      "cell_type": "code",
      "source": [
        "results.append({\n",
        "    \"method\": \"Bootstrap, 1-sample CI\",\n",
        "    \"acc_test\": bootstrap_train_mean,\n",
        "    \"ci_lower\": ci_lower,\n",
        "    \"ci_upper\": ci_upper\n",
        "})"
      ],
      "metadata": {
        "id": "ND8x2Yxc79UL"
      },
      "execution_count": 13,
      "outputs": []
    },
    {
      "cell_type": "markdown",
      "source": [
        "## Bootstrap Confidence Intervals Using the Percentile Method\n",
        "Here, the lower and upper classifier accuracy confidence bounds are picked as follows:\n",
        "\n",
        "* $ACC_{lower}=\\alpha_{1}$-th percentile of the $ACC_{boot}$ distribution;\n",
        "* $ACC_{upper}=\\alpha_{2}$-th percentile of the $ACC_{boot}$ distribution.\n",
        "\n",
        "where $\\alpha_{1}=\\alpha$ and $\\alpha_{2}=1 - \\alpha$ and $\\alpha$ is our degree of confidence to compute the $100\\%\\times(1 - 2\\times\\alpha)$ confidence interval.<br>\n",
        "To compute a $95\\%$ confidence interval, we pick $\\alpha=0.025$ to obtain the $2.5$th and $97.5$th percentiles of the $b$ bootstrap samples distribution as our upper and lower confidence bounds."
      ],
      "metadata": {
        "id": "lXjVnPDPgJOQ"
      }
    },
    {
      "cell_type": "code",
      "source": [
        "ci_lower = np.percentile(bootstrap_train_accuracies, 2.5)\n",
        "ci_upper = np.percentile(bootstrap_train_accuracies, 97.5)\n",
        "\n",
        "print(f\"Lower 95% CI: {ci_lower}\")\n",
        "print(f\"Upper 95% CI: {ci_upper}\")"
      ],
      "metadata": {
        "colab": {
          "base_uri": "https://localhost:8080/"
        },
        "id": "ryuDkBkkgXh_",
        "outputId": "0be116b8-42f4-4ef2-bf89-22e60363ea0c"
      },
      "execution_count": 14,
      "outputs": [
        {
          "output_type": "stream",
          "name": "stdout",
          "text": [
            "Lower 95% CI: 0.8569099378881987\n",
            "Upper 95% CI: 1.0\n"
          ]
        }
      ]
    },
    {
      "cell_type": "code",
      "source": [
        "fig, ax = plt.subplots(figsize=(12, 8))\n",
        "ax.vlines(bootstrap_train_mean, [0], 80, lw=2.5, linestyle=\"-\", label=\"Mean\")\n",
        "\n",
        "ax.vlines(\n",
        "    ci_lower, [0], 15, lw=2.5, linestyle=\"dotted\", label=\"95% CI\", color=\"C2\"\n",
        "    )\n",
        "\n",
        "ax.vlines(ci_upper, [0], 15, lw=2.5, linestyle=\"dotted\", color=\"C2\")\n",
        "\n",
        "ax.hist(\n",
        "    bootstrap_train_accuracies, bins=7,\n",
        "    color=\"#0080ff\", edgecolor=\"none\", alpha=0.3\n",
        ")\n",
        "\n",
        "plt.legend(loc=\"upper left\")\n",
        "\n",
        "plt.xlabel('Accuracy on the bootstrapped train data')\n",
        "plt.ylabel('Count')\n",
        "plt.xlim([0.8, 1.1])\n",
        "\n",
        "plt.grid()\n",
        "plt.show()"
      ],
      "metadata": {
        "colab": {
          "base_uri": "https://localhost:8080/",
          "height": 497
        },
        "id": "db8_PDYuAi64",
        "outputId": "c948d734-e806-4276-830d-d46dcdb4db0e"
      },
      "execution_count": 15,
      "outputs": [
        {
          "output_type": "display_data",
          "data": {
            "text/plain": [
              "<Figure size 864x576 with 1 Axes>"
            ],
            "image/png": "[encoded data removed]"
          },
          "metadata": {
            "needs_background": "light"
          }
        }
      ]
    },
    {
      "cell_type": "code",
      "source": [
        "results.append({\n",
        "    \"method\": \"Bootstrap, percentile\",\n",
        "    \"acc_test\": bootstrap_train_mean,\n",
        "    \"ci_lower\": ci_lower,\n",
        "    \"ci_upper\": ci_upper\n",
        "})"
      ],
      "metadata": {
        "id": "qb2XTdb8A8h1"
      },
      "execution_count": 16,
      "outputs": []
    },
    {
      "cell_type": "markdown",
      "source": [
        "## The .632 Bootstrap\n",
        "Skipping over the technical details, the previously introduced out-of-bag bootstrap method has a slight pessimistic bias, which means that it reports a test accuracy that is slightly worse than the true generalization accuracy of the model. The [.632 bootstrap](https://www.tandfonline.com/doi/abs/10.1080/01621459.1983.10477973) aims to correct this pessimitic bias."
      ],
      "metadata": {
        "id": "rxQxq5p8gX-O"
      }
    },
    {
      "cell_type": "code",
      "source": [
        "rng = np.random.RandomState(seed=42)\n",
        "idx = np.arange(y_train.shape[0])\n",
        "\n",
        "bootstrap_train_accuracies = []\n",
        "bootstrap_rounds = 200\n",
        "weight = 0.632\n",
        "\n",
        "for i in range(bootstrap_rounds):\n",
        "\n",
        "    train_idx = rng.choice(idx, size=idx.shape[0], replace=True)\n",
        "    valid_idx = np.setdiff1d(idx, train_idx, assume_unique=False)\n",
        "\n",
        "    boot_train_X, boot_train_y = X_train[train_idx], y_train[train_idx]\n",
        "    boot_valid_X, boot_valid_y = X_train[valid_idx], y_train[valid_idx]\n",
        "\n",
        "    clf.fit(boot_train_X, boot_train_y)\n",
        "    valid_acc = clf.score(boot_valid_X, boot_valid_y)\n",
        "    # predict training accuracy on the whole training set\n",
        "    # as ib the original .632 boostrap paper\n",
        "    # in Eq (6.12) in\n",
        "    #    \"Estimating the Error Rate of a Prediction Rule: Improvement\n",
        "    #     on Cross-Validation\"\n",
        "    #     by B. Efron, 1983, https://doi.org/10.2307/2288636\n",
        "    train_acc = clf.score(X_train, y_train)\n",
        "\n",
        "    acc = weight * train_acc + (1.0 - weight) * valid_acc\n",
        "\n",
        "    bootstrap_train_accuracies.append(acc)\n",
        "\n",
        "bootstrap_train_mean = np.mean(bootstrap_train_accuracies)\n",
        "print(f\"Bootstrap train mean: {bootstrap_train_mean}\")"
      ],
      "metadata": {
        "colab": {
          "base_uri": "https://localhost:8080/"
        },
        "id": "DgPlWkIwgd8j",
        "outputId": "e9847b3b-dd47-4f08-f9c2-62e32fffc1c2"
      },
      "execution_count": 17,
      "outputs": [
        {
          "output_type": "stream",
          "name": "stdout",
          "text": [
            "Bootstrap train mean: 0.9634748078101427\n"
          ]
        }
      ]
    },
    {
      "cell_type": "code",
      "source": [
        "ci_lower = np.percentile(bootstrap_train_accuracies, 2.5)\n",
        "ci_upper = np.percentile(bootstrap_train_accuracies, 97.5)\n",
        "\n",
        "print(f\"Lower 95% CI: {ci_lower}\")\n",
        "print(f\"Upper 95% CI: {ci_upper}\")"
      ],
      "metadata": {
        "colab": {
          "base_uri": "https://localhost:8080/"
        },
        "id": "l4vBr3u8C-NQ",
        "outputId": "32c7b7f0-3ba6-475b-a4f4-68aacb5c345b"
      },
      "execution_count": 18,
      "outputs": [
        {
          "output_type": "stream",
          "name": "stdout",
          "text": [
            "Lower 95% CI: 0.9078428571428572\n",
            "Upper 95% CI: 1.0\n"
          ]
        }
      ]
    },
    {
      "cell_type": "code",
      "source": [
        "results.append({\n",
        "    \"method\": \"Bootstrap, .632\",\n",
        "    \"acc_test\": bootstrap_train_mean,\n",
        "    \"ci_lower\": ci_lower,\n",
        "    \"ci_upper\": ci_upper\n",
        "})"
      ],
      "metadata": {
        "id": "ESyyA56YDE4S"
      },
      "execution_count": 19,
      "outputs": []
    },
    {
      "cell_type": "markdown",
      "source": [
        "## The .632+ Bootstrap\n",
        "The [.632+ Bootstrap](https://www.tandfonline.com/doi/abs/10.1080/01621459.1997.10474007) is an improvement over the bootstrap we implemented above. In a nutshell, the main difference is that the weighting terms are computed from the so-called no-information rate rather than being fixed."
      ],
      "metadata": {
        "id": "TvvQzz7igeHw"
      }
    },
    {
      "cell_type": "code",
      "source": [
        "def no_information_rate(\n",
        "    targets: np.ndarray, predictions: np.ndarray,\n",
        "    loss_fn: Callable[[np.ndarray, np.ndarray], float]\n",
        "        ) -> float:\n",
        "    \"\"\"\n",
        "    Compute the no-information rate for a given targets array,\n",
        "    predictions array and loss function.\n",
        "\n",
        "    Parameters:\n",
        "        targets: np.ndarray\n",
        "        predictions: np.ndarray\n",
        "        loss_fn: Callable[[np.ndarray, np.ndarray], float]\n",
        "\n",
        "    Returns:\n",
        "        float\n",
        "    \"\"\"\n",
        "    combinations = np.array(list(product(targets, predictions)))\n",
        "    return loss_fn(combinations[:, 0], combinations[:, 1])"
      ],
      "metadata": {
        "id": "ZHnmCyy-Eagt"
      },
      "execution_count": 20,
      "outputs": []
    },
    {
      "cell_type": "code",
      "source": [
        "rng = np.random.RandomState(seed=42)\n",
        "idx = np.arange(y_train.shape[0])\n",
        "\n",
        "bootstrap_train_accuracies = []\n",
        "bootstrap_rounds = 200\n",
        "weight = 0.632\n",
        "\n",
        "\n",
        "for i in range(bootstrap_rounds):\n",
        "\n",
        "    train_idx = rng.choice(idx, size=idx.shape[0], replace=True)\n",
        "    valid_idx = np.setdiff1d(idx, train_idx, assume_unique=False)\n",
        "\n",
        "    boot_train_X, boot_train_y = X_train[train_idx], y_train[train_idx]\n",
        "    boot_valid_X, boot_valid_y = X_train[valid_idx], y_train[valid_idx]\n",
        "\n",
        "    clf.fit(boot_train_X, boot_train_y)\n",
        "    train_acc = clf.score(X_train, y_train)\n",
        "    valid_acc = clf.score(boot_valid_X, boot_valid_y)\n",
        "\n",
        "    gamma = no_information_rate(y, clf.predict(X), accuracy_score)\n",
        "    R = (valid_acc - train_acc) / (gamma - train_acc)\n",
        "\n",
        "    weight = 0.632 / (1 - 0.368 * R)\n",
        "\n",
        "    acc = weight * train_acc + (1.0 - weight) * valid_acc\n",
        "\n",
        "    bootstrap_train_accuracies.append(acc)\n",
        "\n",
        "bootstrap_train_mean = np.mean(bootstrap_train_accuracies)\n",
        "print(f\"Bootstrap train mean: {bootstrap_train_mean}\")"
      ],
      "metadata": {
        "colab": {
          "base_uri": "https://localhost:8080/"
        },
        "id": "isVQWMsGGwwQ",
        "outputId": "e1f53492-5414-4632-9390-f44a4af772d1"
      },
      "execution_count": 21,
      "outputs": [
        {
          "output_type": "stream",
          "name": "stdout",
          "text": [
            "Bootstrap train mean: 0.9642738885781609\n"
          ]
        }
      ]
    },
    {
      "cell_type": "code",
      "source": [
        "ci_lower = np.percentile(bootstrap_train_accuracies, 2.5)\n",
        "ci_upper = np.percentile(bootstrap_train_accuracies, 97.5)\n",
        "\n",
        "print(f\"Lower 95% CI: {ci_lower}\")\n",
        "print(f\"Upper 95% CI: {ci_upper}\")"
      ],
      "metadata": {
        "colab": {
          "base_uri": "https://localhost:8080/"
        },
        "id": "a0eGE-57G8eQ",
        "outputId": "c48252e8-9391-42bb-9f61-38ac6bf00bb0"
      },
      "execution_count": 22,
      "outputs": [
        {
          "output_type": "stream",
          "name": "stdout",
          "text": [
            "Lower 95% CI: 0.9104730522993049\n",
            "Upper 95% CI: 1.0\n"
          ]
        }
      ]
    },
    {
      "cell_type": "code",
      "source": [
        "results.append({\n",
        "    \"method\": \"Bootstrap, .632+\",\n",
        "    \"acc_test\": bootstrap_train_mean,\n",
        "    \"ci_lower\": ci_lower,\n",
        "    \"ci_upper\": ci_upper\n",
        "})"
      ],
      "metadata": {
        "id": "120wDT5dG9vW"
      },
      "execution_count": 23,
      "outputs": []
    },
    {
      "cell_type": "markdown",
      "source": [
        "# Bootstrapping the Test Set Predictions\n",
        "Let’s look at another way we can construct confidence intervals involving bootstrapping, namely, bootstrapping the test set (one example of this method being used is in the article [Machine Learning for Scent: Learning Generalizable Perceptual Representations of Small Molecules](https://arxiv.org/abs/1910.10685))."
      ],
      "metadata": {
        "id": "OWDxrp5EgkcX"
      }
    },
    {
      "cell_type": "code",
      "source": [
        "clf.fit(X_train, y_train)\n",
        "\n",
        "predictions_test = clf.predict(X_test)\n",
        "acc_test = np.mean(predictions_test == y_test)\n",
        "\n",
        "rng = np.random.RandomState(seed=42)\n",
        "idx = np.arange(y_test.shape[0])\n",
        "\n",
        "test_accuracies = []\n",
        "\n",
        "for i in range(200):\n",
        "    pred_idx = rng.choice(idx, size=idx.shape[0], replace=True)\n",
        "    acc_test_boot = np.mean(predictions_test[pred_idx] == y_test[pred_idx])\n",
        "    test_accuracies.append(acc_test_boot)\n",
        "\n",
        "bootstrap_train_mean = np.mean(test_accuracies)\n",
        "print(f\"Bootstrap train mean: {bootstrap_train_mean}\")"
      ],
      "metadata": {
        "colab": {
          "base_uri": "https://localhost:8080/"
        },
        "id": "Mj4KxpM2gpDH",
        "outputId": "a1b0f226-b0ea-4c3b-b7bf-1bef74b0506b"
      },
      "execution_count": 24,
      "outputs": [
        {
          "output_type": "stream",
          "name": "stdout",
          "text": [
            "Bootstrap train mean: 0.897236842105263\n"
          ]
        }
      ]
    },
    {
      "cell_type": "code",
      "source": [
        "ci_lower = np.percentile(test_accuracies, 2.5)\n",
        "ci_upper = np.percentile(test_accuracies, 97.5)\n",
        "\n",
        "print(f\"Lower 95% CI: {ci_lower}\")\n",
        "print(f\"Upper 95% CI: {ci_upper}\")"
      ],
      "metadata": {
        "colab": {
          "base_uri": "https://localhost:8080/"
        },
        "id": "xaTkRBVrKD2Y",
        "outputId": "c40e4e1a-229f-4c11-dbdc-6e8a57e3ec82"
      },
      "execution_count": 25,
      "outputs": [
        {
          "output_type": "stream",
          "name": "stdout",
          "text": [
            "Lower 95% CI: 0.8157894736842105\n",
            "Upper 95% CI: 0.9736842105263158\n"
          ]
        }
      ]
    },
    {
      "cell_type": "code",
      "source": [
        "results.append({\n",
        "    \"method\": \"Bootstrap test set\",\n",
        "    \"acc_test\": bootstrap_train_mean,\n",
        "    \"ci_lower\": ci_lower,\n",
        "    \"ci_upper\": ci_upper\n",
        "})"
      ],
      "metadata": {
        "id": "Bg-X15XwKIEm"
      },
      "execution_count": 26,
      "outputs": []
    },
    {
      "cell_type": "markdown",
      "source": [
        "# Confidence Intervals from Retraining Models with Different Random Seeds\n",
        "Let's retrain our classifier with different random seeds and construct classifier accuracy confidence interval from the results. The formula for the average accuracy during these experiments is as follows:\n",
        "$$\\overline{ACC}_{test}\\pm t\\times\\frac{\\sqrt{\\frac{\\sum_j\\big(ACC_{test j} - \\overline{ACC}_{test}\\big)^2}{r - 1}}}{\\sqrt{r}}$$\n",
        "where\n",
        "\n",
        "* $t$ is [*t-statistic*](https://en.wikipedia.org/wiki/T-statistic);\n",
        "* $r$ is the number of rounds (different random seeds used);\n",
        "* $ACC_{test j}$ is the classifier accuracy computed at the $j$-th round."
      ],
      "metadata": {
        "id": "D32r8DrBgpOA"
      }
    },
    {
      "cell_type": "code",
      "source": [
        "test_accuracies = []\n",
        "rounds = 5\n",
        "\n",
        "for i in range(rounds):\n",
        "    clf = DecisionTreeClassifier(random_state=i)\n",
        "    clf.fit(X_train, y_train)\n",
        "    acc = clf.score(X_test, y_test)\n",
        "    test_accuracies.append(acc)\n",
        "\n",
        "test_mean = np.mean(test_accuracies)\n",
        "print(f\"Test mean: {test_mean}\")"
      ],
      "metadata": {
        "colab": {
          "base_uri": "https://localhost:8080/"
        },
        "id": "1jB5lXFWguy7",
        "outputId": "2be1bd00-e779-46c8-b05f-469f37f41a58"
      },
      "execution_count": 27,
      "outputs": [
        {
          "output_type": "stream",
          "name": "stdout",
          "text": [
            "Test mean: 0.9315789473684211\n"
          ]
        }
      ]
    },
    {
      "cell_type": "code",
      "source": [
        "confidence = 0.95\n",
        "t_value = scipy.stats.t.ppf((1 + confidence) / 2.0, df=rounds - 1)\n",
        "\n",
        "sd = np.std(test_accuracies, ddof=1)\n",
        "se = sd / np.sqrt(rounds)\n",
        "\n",
        "ci_length = t_value * se\n",
        "\n",
        "ci_lower = test_mean - ci_length\n",
        "ci_upper = test_mean + ci_length\n",
        "\n",
        "print(f\"Lower 95% CI: {ci_lower}\")\n",
        "print(f\"Upper 95% CI: {ci_upper}\")"
      ],
      "metadata": {
        "colab": {
          "base_uri": "https://localhost:8080/"
        },
        "id": "wA1aq9FVPLVv",
        "outputId": "8eebc2b4-7ba2-4c6f-fa5e-b77558c5d4d1"
      },
      "execution_count": 28,
      "outputs": [
        {
          "output_type": "stream",
          "name": "stdout",
          "text": [
            "Lower 95% CI: 0.8943232953425717\n",
            "Upper 95% CI: 0.9688345993942704\n"
          ]
        }
      ]
    },
    {
      "cell_type": "markdown",
      "source": [
        "# Different Confidence Interval Methods Comparison"
      ],
      "metadata": {
        "id": "guNDzo_egu-2"
      }
    },
    {
      "cell_type": "code",
      "source": [
        "results_df = pd.DataFrame(results).set_index(\"method\")"
      ],
      "metadata": {
        "id": "pZGRw-kfhDhp"
      },
      "execution_count": 29,
      "outputs": []
    },
    {
      "cell_type": "code",
      "source": [
        "results_df.head()"
      ],
      "metadata": {
        "colab": {
          "base_uri": "https://localhost:8080/",
          "height": 235
        },
        "id": "hYXlWy_zd9Ft",
        "outputId": "4ba47c46-1801-4761-bb59-17ba8cc5dd49"
      },
      "execution_count": 30,
      "outputs": [
        {
          "output_type": "execute_result",
          "data": {
            "text/plain": [
              "                        acc_test  ci_lower  ci_upper\n",
              "method                                              \n",
              "Normal approximation    0.894737  0.797161  0.992313\n",
              "Bootstrap, 1-sample CI  0.938851  0.866116  1.011587\n",
              "Bootstrap, percentile   0.938851  0.856910  1.000000\n",
              "Bootstrap, .632         0.963475  0.907843  1.000000\n",
              "Bootstrap, .632+        0.964274  0.910473  1.000000"
            ],
            "text/html": [
              "\n",
              "  <div id=\"df-ae2c1a97-b3c3-4b04-9128-3764784a2fdd\">\n",
              "    <div class=\"colab-df-container\">\n",
              "      <div>\n",
              "<style scoped>\n",
              "    .dataframe tbody tr th:only-of-type {\n",
              "        vertical-align: middle;\n",
              "    }\n",
              "\n",
              "    .dataframe tbody tr th {\n",
              "        vertical-align: top;\n",
              "    }\n",
              "\n",
              "    .dataframe thead th {\n",
              "        text-align: right;\n",
              "    }\n",
              "</style>\n",
              "<table border=\"1\" class=\"dataframe\">\n",
              "  <thead>\n",
              "    <tr style=\"text-align: right;\">\n",
              "      <th></th>\n",
              "      <th>acc_test</th>\n",
              "      <th>ci_lower</th>\n",
              "      <th>ci_upper</th>\n",
              "    </tr>\n",
              "    <tr>\n",
              "      <th>method</th>\n",
              "      <th></th>\n",
              "      <th></th>\n",
              "      <th></th>\n",
              "    </tr>\n",
              "  </thead>\n",
              "  <tbody>\n",
              "    <tr>\n",
              "      <th>Normal approximation</th>\n",
              "      <td>0.894737</td>\n",
              "      <td>0.797161</td>\n",
              "      <td>0.992313</td>\n",
              "    </tr>\n",
              "    <tr>\n",
              "      <th>Bootstrap, 1-sample CI</th>\n",
              "      <td>0.938851</td>\n",
              "      <td>0.866116</td>\n",
              "      <td>1.011587</td>\n",
              "    </tr>\n",
              "    <tr>\n",
              "      <th>Bootstrap, percentile</th>\n",
              "      <td>0.938851</td>\n",
              "      <td>0.856910</td>\n",
              "      <td>1.000000</td>\n",
              "    </tr>\n",
              "    <tr>\n",
              "      <th>Bootstrap, .632</th>\n",
              "      <td>0.963475</td>\n",
              "      <td>0.907843</td>\n",
              "      <td>1.000000</td>\n",
              "    </tr>\n",
              "    <tr>\n",
              "      <th>Bootstrap, .632+</th>\n",
              "      <td>0.964274</td>\n",
              "      <td>0.910473</td>\n",
              "      <td>1.000000</td>\n",
              "    </tr>\n",
              "  </tbody>\n",
              "</table>\n",
              "</div>\n",
              "      <button class=\"colab-df-convert\" onclick=\"convertToInteractive('df-ae2c1a97-b3c3-4b04-9128-3764784a2fdd')\"\n",
              "              title=\"Convert this dataframe to an interactive table.\"\n",
              "              style=\"display:none;\">\n",
              "        \n",
              "  <svg xmlns=\"http://www.w3.org/2000/svg\" height=\"24px\"viewBox=\"0 0 24 24\"\n",
              "       width=\"24px\">\n",
              "    <path d=\"M0 0h24v24H0V0z\" fill=\"none\"/>\n",
              "    <path d=\"M18.56 5.44l.94 2.06.94-2.06 2.06-.94-2.06-.94-.94-2.06-.94 2.06-2.06.94zm-11 1L8.5 8.5l.94-2.06 2.06-.94-2.06-.94L8.5 2.5l-.94 2.06-2.06.94zm10 10l.94 2.06.94-2.06 2.06-.94-2.06-.94-.94-2.06-.94 2.06-2.06.94z\"/><path d=\"M17.41 7.96l-1.37-1.37c-.4-.4-.92-.59-1.43-.59-.52 0-1.04.2-1.43.59L10.3 9.45l-7.72 7.72c-.78.78-.78 2.05 0 2.83L4 21.41c.39.39.9.59 1.41.59.51 0 1.02-.2 1.41-.59l7.78-7.78 2.81-2.81c.8-.78.8-2.07 0-2.86zM5.41 20L4 18.59l7.72-7.72 1.47 1.35L5.41 20z\"/>\n",
              "  </svg>\n",
              "      </button>\n",
              "      \n",
              "  <style>\n",
              "    .colab-df-container {\n",
              "      display:flex;\n",
              "      flex-wrap:wrap;\n",
              "      gap: 12px;\n",
              "    }\n",
              "\n",
              "    .colab-df-convert {\n",
              "      background-color: #E8F0FE;\n",
              "      border: none;\n",
              "      border-radius: 50%;\n",
              "      cursor: pointer;\n",
              "      display: none;\n",
              "      fill: #1967D2;\n",
              "      height: 32px;\n",
              "      padding: 0 0 0 0;\n",
              "      width: 32px;\n",
              "    }\n",
              "\n",
              "    .colab-df-convert:hover {\n",
              "      background-color: #E2EBFA;\n",
              "      box-shadow: 0px 1px 2px rgba(60, 64, 67, 0.3), 0px 1px 3px 1px rgba(60, 64, 67, 0.15);\n",
              "      fill: #174EA6;\n",
              "    }\n",
              "\n",
              "    [theme=dark] .colab-df-convert {\n",
              "      background-color: #3B4455;\n",
              "      fill: #D2E3FC;\n",
              "    }\n",
              "\n",
              "    [theme=dark] .colab-df-convert:hover {\n",
              "      background-color: #434B5C;\n",
              "      box-shadow: 0px 1px 3px 1px rgba(0, 0, 0, 0.15);\n",
              "      filter: drop-shadow(0px 1px 2px rgba(0, 0, 0, 0.3));\n",
              "      fill: #FFFFFF;\n",
              "    }\n",
              "  </style>\n",
              "\n",
              "      <script>\n",
              "        const buttonEl =\n",
              "          document.querySelector('#df-ae2c1a97-b3c3-4b04-9128-3764784a2fdd button.colab-df-convert');\n",
              "        buttonEl.style.display =\n",
              "          google.colab.kernel.accessAllowed ? 'block' : 'none';\n",
              "\n",
              "        async function convertToInteractive(key) {\n",
              "          const element = document.querySelector('#df-ae2c1a97-b3c3-4b04-9128-3764784a2fdd');\n",
              "          const dataTable =\n",
              "            await google.colab.kernel.invokeFunction('convertToInteractive',\n",
              "                                                     [key], {});\n",
              "          if (!dataTable) return;\n",
              "\n",
              "          const docLinkHtml = 'Like what you see? Visit the ' +\n",
              "            '<a target=\"_blank\" href=https://colab.research.google.com/notebooks/data_table.ipynb>data table notebook</a>'\n",
              "            + ' to learn more about interactive tables.';\n",
              "          element.innerHTML = '';\n",
              "          dataTable['output_type'] = 'display_data';\n",
              "          await google.colab.output.renderOutput(dataTable, element);\n",
              "          const docLink = document.createElement('div');\n",
              "          docLink.innerHTML = docLinkHtml;\n",
              "          element.appendChild(docLink);\n",
              "        }\n",
              "      </script>\n",
              "    </div>\n",
              "  </div>\n",
              "  "
            ]
          },
          "metadata": {},
          "execution_count": 30
        }
      ]
    },
    {
      "cell_type": "code",
      "source": [
        "labels = np.array(results_df.index)\n",
        "\n",
        "means, lower_error, upper_error = map(\n",
        "    np.array,\n",
        "    [results_df[\"acc_test\"], results_df[\"ci_lower\"], results_df[\"ci_upper\"]]\n",
        "    )\n",
        "\n",
        "asymmetric_error = [means - lower_error, upper_error - means]\n",
        "\n",
        "fig, ax = plt.subplots(figsize=(10, 5))\n",
        "ax.errorbar(means, np.arange(len(means)), xerr=asymmetric_error, fmt=\"o\")\n",
        "ax.set_xlim([0.75, 1.0])\n",
        "ax.set_yticks(np.arange(len(means)))\n",
        "ax.set_yticklabels(labels)\n",
        "ax.set_xlabel(\"Prediction accuracy\")\n",
        "ax.set_title(\"95% confidence intervals\")\n",
        "\n",
        "plt.grid()\n",
        "plt.tight_layout()\n",
        "plt.show()"
      ],
      "metadata": {
        "colab": {
          "base_uri": "https://localhost:8080/",
          "height": 369
        },
        "id": "6tknPYXNeTEq",
        "outputId": "59a77d39-3896-4d82-cd91-d1e527be2db5"
      },
      "execution_count": 42,
      "outputs": [
        {
          "output_type": "display_data",
          "data": {
            "text/plain": [
              "<Figure size 720x360 with 1 Axes>"
            ],
            "image/png": "[encoded data removed]"
          },
          "metadata": {
            "needs_background": "light"
          }
        }
      ]
    },
    {
      "cell_type": "markdown",
      "source": [
        "# Testing Different Confidence Interval Methods on a Synthetic Dataset\n",
        "Let’s look at the results of a small simulation study to investigate how precise the different confidence interval methods are. Here, we are interested in seeing whether the true model accuracy (generalization accuracy) is actually contained in the confidence intervals.\n",
        "\n",
        "We create a synthetic dataset consisting of 10 million and 2 thousand data points for classification. The first 1000 data points are used for training, the second 1000 data points are used for testing, and the remaining 10 000 000 data points represent the dataset we use to calculate the model’s true performance."
      ],
      "metadata": {
        "id": "--yr1B6UhD0o"
      }
    },
    {
      "cell_type": "code",
      "source": [
        "X, y = make_classification(\n",
        "    n_samples=10_002_000,\n",
        "    n_features=5,\n",
        "    n_redundant=2,\n",
        "    n_classes=2,\n",
        "    n_clusters_per_class=1,\n",
        "    random_state=42,\n",
        "    flip_y=0.25,\n",
        ")\n",
        "\n",
        "X_train = X[:1_000]\n",
        "y_train = y[:1_000]\n",
        "\n",
        "X_test = X[1_000:2_000]\n",
        "y_test = y[1_000:2_000]\n",
        "\n",
        "X_huge_test = X[2_000:]\n",
        "y_huge_test = y[2_000:]"
      ],
      "metadata": {
        "id": "DmffiEyqhK9v"
      },
      "execution_count": 51,
      "outputs": []
    },
    {
      "cell_type": "code",
      "source": [
        "results = []"
      ],
      "metadata": {
        "id": "n4bLGw8jnGHz"
      },
      "execution_count": 52,
      "outputs": []
    },
    {
      "cell_type": "code",
      "source": [
        "clf = DecisionTreeClassifier(random_state=42, max_depth=3)\n",
        "clf.fit(X_train, y_train)\n",
        "\n",
        "acc_test_true = clf.score(X_huge_test, y_huge_test)\n",
        "print(f\"True accuracy of the classifier: {acc_test_true}\")"
      ],
      "metadata": {
        "colab": {
          "base_uri": "https://localhost:8080/"
        },
        "id": "VbiUTPgcnH1K",
        "outputId": "8dc34149-4edf-4052-feb8-5af6e7b9bf17"
      },
      "execution_count": 53,
      "outputs": [
        {
          "output_type": "stream",
          "name": "stdout",
          "text": [
            "True accuracy of the classifier: 0.8126501\n"
          ]
        }
      ]
    },
    {
      "cell_type": "code",
      "source": [
        "confidence = 0.95\n",
        "z_value = scipy.stats.norm.ppf((1 + confidence) / 2.0)\n",
        "\n",
        "clf.fit(X_train, y_train)\n",
        "\n",
        "acc_test = clf.score(X_test, y_test)\n",
        "ci_length = z_value * np.sqrt((acc_test * (1 - acc_test)) / y_test.shape[0])\n",
        "\n",
        "ci_lower = acc_test - ci_length\n",
        "ci_upper = acc_test + ci_length\n",
        "\n",
        "results.append({\n",
        "    \"method\": \"Normal approximation\",\n",
        "    \"acc_test\": acc_test,\n",
        "    \"ci_lower\": ci_lower,\n",
        "    \"ci_upper\": ci_upper\n",
        "})"
      ],
      "metadata": {
        "id": "Z52hG347n0bq"
      },
      "execution_count": 54,
      "outputs": []
    },
    {
      "cell_type": "code",
      "source": [
        "rng = np.random.RandomState(seed=42)\n",
        "idx = np.arange(y_train.shape[0])\n",
        "\n",
        "bootstrap_train_accuracies = []\n",
        "bootstrap_rounds = 200\n",
        "\n",
        "for i in range(bootstrap_rounds):\n",
        "    train_idx = rng.choice(idx, size=idx.shape[0], replace=True)\n",
        "    valid_idx = np.setdiff1d(idx, train_idx, assume_unique=False)\n",
        "\n",
        "    boot_train_X, boot_train_y = X_train[train_idx], y_train[train_idx]\n",
        "    boot_valid_X, boot_valid_y = X_train[valid_idx], y_train[valid_idx]\n",
        "\n",
        "    clf.fit(boot_train_X, boot_train_y)\n",
        "    acc = clf.score(boot_valid_X, boot_valid_y)\n",
        "    bootstrap_train_accuracies.append(acc)\n",
        "\n",
        "bootstrap_train_mean = np.mean(bootstrap_train_accuracies)\n",
        "\n",
        "confidence = 0.95\n",
        "t_value = scipy.stats.t.ppf((1 + confidence) / 2.0, df=bootstrap_rounds - 1)\n",
        "\n",
        "\n",
        "se = 0.0\n",
        "\n",
        "for acc in bootstrap_train_accuracies:\n",
        "    se += (acc - bootstrap_train_mean) ** 2\n",
        "\n",
        "se = np.sqrt((1.0 / (bootstrap_rounds - 1)) * se)\n",
        "\n",
        "ci_length = t_value * se\n",
        "\n",
        "ci_lower = bootstrap_train_mean - ci_length\n",
        "ci_upper = bootstrap_train_mean + ci_length\n",
        "\n",
        "results.append({\n",
        "    \"method\": \"Bootstrap, 1-sample CI\",\n",
        "    \"acc_test\": bootstrap_train_mean,\n",
        "    \"ci_lower\": ci_lower,\n",
        "    \"ci_upper\": ci_upper\n",
        "})"
      ],
      "metadata": {
        "id": "DJIBytdBoK9h"
      },
      "execution_count": 55,
      "outputs": []
    },
    {
      "cell_type": "code",
      "source": [
        "ci_lower = np.percentile(bootstrap_train_accuracies, 2.5)\n",
        "ci_upper = np.percentile(bootstrap_train_accuracies, 97.5)\n",
        "\n",
        "results.append({\n",
        "    \"method\": \"Bootstrap, percentile\",\n",
        "    \"acc_test\": bootstrap_train_mean,\n",
        "    \"ci_lower\": ci_lower,\n",
        "    \"ci_upper\": ci_upper\n",
        "})"
      ],
      "metadata": {
        "id": "OYbf1921oq20"
      },
      "execution_count": 56,
      "outputs": []
    },
    {
      "cell_type": "code",
      "source": [
        "rng = np.random.RandomState(seed=42)\n",
        "idx = np.arange(y_train.shape[0])\n",
        "\n",
        "bootstrap_train_accuracies = []\n",
        "bootstrap_rounds = 200\n",
        "weight = 0.632\n",
        "\n",
        "for i in range(bootstrap_rounds):\n",
        "    train_idx = rng.choice(idx, size=idx.shape[0], replace=True)\n",
        "    valid_idx = np.setdiff1d(idx, train_idx, assume_unique=False)\n",
        "\n",
        "    boot_train_X, boot_train_y = X_train[train_idx], y_train[train_idx]\n",
        "    boot_valid_X, boot_valid_y = X_train[valid_idx], y_train[valid_idx]\n",
        "\n",
        "    clf.fit(boot_train_X, boot_train_y)\n",
        "    train_acc = clf.score(X_train, y_train)\n",
        "    valid_acc = clf.score(boot_valid_X, boot_valid_y)\n",
        "    acc = weight * train_acc + (1.0 - weight) * valid_acc\n",
        "\n",
        "    bootstrap_train_accuracies.append(acc)\n",
        "\n",
        "bootstrap_train_mean = np.mean(bootstrap_train_accuracies)\n",
        "\n",
        "ci_lower = np.percentile(bootstrap_train_accuracies, 2.5)\n",
        "ci_upper = np.percentile(bootstrap_train_accuracies, 97.5)\n",
        "\n",
        "results.append({\n",
        "    \"method\": \"Bootstrap, .632\",\n",
        "    \"acc_test\": bootstrap_train_mean,\n",
        "    \"ci_lower\": ci_lower,\n",
        "    \"ci_upper\": ci_upper\n",
        "})"
      ],
      "metadata": {
        "id": "AmpTfy7PpOGL"
      },
      "execution_count": 57,
      "outputs": []
    },
    {
      "cell_type": "code",
      "source": [
        "clf.fit(X_train, y_train)\n",
        "\n",
        "predictions_test = clf.predict(X_test)\n",
        "acc_test = np.mean(predictions_test == y_test)\n",
        "\n",
        "rng = np.random.RandomState(seed=42)\n",
        "idx = np.arange(y_test.shape[0])\n",
        "\n",
        "test_accuracies = []\n",
        "\n",
        "for i in range(200):\n",
        "    pred_idx = rng.choice(idx, size=idx.shape[0], replace=True)\n",
        "    acc_test_boot = np.mean(predictions_test[pred_idx] == y_test[pred_idx])\n",
        "    test_accuracies.append(acc_test_boot)\n",
        "\n",
        "bootstrap_train_mean = np.mean(test_accuracies)\n",
        "\n",
        "ci_lower = np.percentile(test_accuracies, 2.5)\n",
        "ci_upper = np.percentile(test_accuracies, 97.5)\n",
        "\n",
        "results.append({\n",
        "    \"method\": \"Bootstrap test set\",\n",
        "    \"acc_test\": bootstrap_train_mean,\n",
        "    \"ci_lower\": ci_lower,\n",
        "    \"ci_upper\": ci_upper\n",
        "})"
      ],
      "metadata": {
        "id": "aDzdmHSOpm01"
      },
      "execution_count": 58,
      "outputs": []
    },
    {
      "cell_type": "code",
      "source": [
        "results_df = pd.DataFrame(results).set_index(\"method\")"
      ],
      "metadata": {
        "id": "m6vHazJjqL2b"
      },
      "execution_count": 59,
      "outputs": []
    },
    {
      "cell_type": "code",
      "source": [
        "results_df.head()"
      ],
      "metadata": {
        "colab": {
          "base_uri": "https://localhost:8080/",
          "height": 235
        },
        "id": "npsXePa8qM4f",
        "outputId": "d983af87-9665-4c83-bc1a-2235d46c68e3"
      },
      "execution_count": 60,
      "outputs": [
        {
          "output_type": "execute_result",
          "data": {
            "text/plain": [
              "                        acc_test  ci_lower  ci_upper\n",
              "method                                              \n",
              "Normal approximation     0.83100  0.807773  0.854227\n",
              "Bootstrap, 1-sample CI   0.79521  0.757041  0.833379\n",
              "Bootstrap, percentile    0.79521  0.755671  0.830137\n",
              "Bootstrap, .632          0.80469  0.779812  0.822480\n",
              "Bootstrap test set       0.83225  0.811000  0.857000"
            ],
            "text/html": [
              "\n",
              "  <div id=\"df-137f8919-b738-4af5-aafe-af60ca0800d6\">\n",
              "    <div class=\"colab-df-container\">\n",
              "      <div>\n",
              "<style scoped>\n",
              "    .dataframe tbody tr th:only-of-type {\n",
              "        vertical-align: middle;\n",
              "    }\n",
              "\n",
              "    .dataframe tbody tr th {\n",
              "        vertical-align: top;\n",
              "    }\n",
              "\n",
              "    .dataframe thead th {\n",
              "        text-align: right;\n",
              "    }\n",
              "</style>\n",
              "<table border=\"1\" class=\"dataframe\">\n",
              "  <thead>\n",
              "    <tr style=\"text-align: right;\">\n",
              "      <th></th>\n",
              "      <th>acc_test</th>\n",
              "      <th>ci_lower</th>\n",
              "      <th>ci_upper</th>\n",
              "    </tr>\n",
              "    <tr>\n",
              "      <th>method</th>\n",
              "      <th></th>\n",
              "      <th></th>\n",
              "      <th></th>\n",
              "    </tr>\n",
              "  </thead>\n",
              "  <tbody>\n",
              "    <tr>\n",
              "      <th>Normal approximation</th>\n",
              "      <td>0.83100</td>\n",
              "      <td>0.807773</td>\n",
              "      <td>0.854227</td>\n",
              "    </tr>\n",
              "    <tr>\n",
              "      <th>Bootstrap, 1-sample CI</th>\n",
              "      <td>0.79521</td>\n",
              "      <td>0.757041</td>\n",
              "      <td>0.833379</td>\n",
              "    </tr>\n",
              "    <tr>\n",
              "      <th>Bootstrap, percentile</th>\n",
              "      <td>0.79521</td>\n",
              "      <td>0.755671</td>\n",
              "      <td>0.830137</td>\n",
              "    </tr>\n",
              "    <tr>\n",
              "      <th>Bootstrap, .632</th>\n",
              "      <td>0.80469</td>\n",
              "      <td>0.779812</td>\n",
              "      <td>0.822480</td>\n",
              "    </tr>\n",
              "    <tr>\n",
              "      <th>Bootstrap test set</th>\n",
              "      <td>0.83225</td>\n",
              "      <td>0.811000</td>\n",
              "      <td>0.857000</td>\n",
              "    </tr>\n",
              "  </tbody>\n",
              "</table>\n",
              "</div>\n",
              "      <button class=\"colab-df-convert\" onclick=\"convertToInteractive('df-137f8919-b738-4af5-aafe-af60ca0800d6')\"\n",
              "              title=\"Convert this dataframe to an interactive table.\"\n",
              "              style=\"display:none;\">\n",
              "        \n",
              "  <svg xmlns=\"http://www.w3.org/2000/svg\" height=\"24px\"viewBox=\"0 0 24 24\"\n",
              "       width=\"24px\">\n",
              "    <path d=\"M0 0h24v24H0V0z\" fill=\"none\"/>\n",
              "    <path d=\"M18.56 5.44l.94 2.06.94-2.06 2.06-.94-2.06-.94-.94-2.06-.94 2.06-2.06.94zm-11 1L8.5 8.5l.94-2.06 2.06-.94-2.06-.94L8.5 2.5l-.94 2.06-2.06.94zm10 10l.94 2.06.94-2.06 2.06-.94-2.06-.94-.94-2.06-.94 2.06-2.06.94z\"/><path d=\"M17.41 7.96l-1.37-1.37c-.4-.4-.92-.59-1.43-.59-.52 0-1.04.2-1.43.59L10.3 9.45l-7.72 7.72c-.78.78-.78 2.05 0 2.83L4 21.41c.39.39.9.59 1.41.59.51 0 1.02-.2 1.41-.59l7.78-7.78 2.81-2.81c.8-.78.8-2.07 0-2.86zM5.41 20L4 18.59l7.72-7.72 1.47 1.35L5.41 20z\"/>\n",
              "  </svg>\n",
              "      </button>\n",
              "      \n",
              "  <style>\n",
              "    .colab-df-container {\n",
              "      display:flex;\n",
              "      flex-wrap:wrap;\n",
              "      gap: 12px;\n",
              "    }\n",
              "\n",
              "    .colab-df-convert {\n",
              "      background-color: #E8F0FE;\n",
              "      border: none;\n",
              "      border-radius: 50%;\n",
              "      cursor: pointer;\n",
              "      display: none;\n",
              "      fill: #1967D2;\n",
              "      height: 32px;\n",
              "      padding: 0 0 0 0;\n",
              "      width: 32px;\n",
              "    }\n",
              "\n",
              "    .colab-df-convert:hover {\n",
              "      background-color: #E2EBFA;\n",
              "      box-shadow: 0px 1px 2px rgba(60, 64, 67, 0.3), 0px 1px 3px 1px rgba(60, 64, 67, 0.15);\n",
              "      fill: #174EA6;\n",
              "    }\n",
              "\n",
              "    [theme=dark] .colab-df-convert {\n",
              "      background-color: #3B4455;\n",
              "      fill: #D2E3FC;\n",
              "    }\n",
              "\n",
              "    [theme=dark] .colab-df-convert:hover {\n",
              "      background-color: #434B5C;\n",
              "      box-shadow: 0px 1px 3px 1px rgba(0, 0, 0, 0.15);\n",
              "      filter: drop-shadow(0px 1px 2px rgba(0, 0, 0, 0.3));\n",
              "      fill: #FFFFFF;\n",
              "    }\n",
              "  </style>\n",
              "\n",
              "      <script>\n",
              "        const buttonEl =\n",
              "          document.querySelector('#df-137f8919-b738-4af5-aafe-af60ca0800d6 button.colab-df-convert');\n",
              "        buttonEl.style.display =\n",
              "          google.colab.kernel.accessAllowed ? 'block' : 'none';\n",
              "\n",
              "        async function convertToInteractive(key) {\n",
              "          const element = document.querySelector('#df-137f8919-b738-4af5-aafe-af60ca0800d6');\n",
              "          const dataTable =\n",
              "            await google.colab.kernel.invokeFunction('convertToInteractive',\n",
              "                                                     [key], {});\n",
              "          if (!dataTable) return;\n",
              "\n",
              "          const docLinkHtml = 'Like what you see? Visit the ' +\n",
              "            '<a target=\"_blank\" href=https://colab.research.google.com/notebooks/data_table.ipynb>data table notebook</a>'\n",
              "            + ' to learn more about interactive tables.';\n",
              "          element.innerHTML = '';\n",
              "          dataTable['output_type'] = 'display_data';\n",
              "          await google.colab.output.renderOutput(dataTable, element);\n",
              "          const docLink = document.createElement('div');\n",
              "          docLink.innerHTML = docLinkHtml;\n",
              "          element.appendChild(docLink);\n",
              "        }\n",
              "      </script>\n",
              "    </div>\n",
              "  </div>\n",
              "  "
            ]
          },
          "metadata": {},
          "execution_count": 60
        }
      ]
    },
    {
      "cell_type": "code",
      "source": [
        "labels = np.array(results_df.index)\n",
        "\n",
        "means, lower_error, upper_error = map(\n",
        "    np.array,\n",
        "    [results_df[\"acc_test\"], results_df[\"ci_lower\"], results_df[\"ci_upper\"]]\n",
        "    )\n",
        "\n",
        "asymmetric_error = [means - lower_error, upper_error - means]\n",
        "\n",
        "fig, ax = plt.subplots(figsize=(10, 5))\n",
        "ax.errorbar(means, np.arange(len(means)), xerr=asymmetric_error, fmt=\"o\")\n",
        "ax.set_xlim([0.7, 1.0])\n",
        "ax.set_yticks(np.arange(len(means)))\n",
        "ax.set_yticklabels(labels)\n",
        "ax.set_xlabel(\"Prediction accuracy\")\n",
        "ax.set_title(\"95% confidence intervals\")\n",
        "\n",
        "ax.vlines(\n",
        "    acc_test_true, [0], 5, lw=1.5, color=\"red\", linestyle=\"-\",\n",
        "    label=\"True value\"\n",
        "    )\n",
        "\n",
        "plt.grid()\n",
        "plt.tight_layout()\n",
        "plt.show()"
      ],
      "metadata": {
        "colab": {
          "base_uri": "https://localhost:8080/",
          "height": 369
        },
        "id": "e6XKdkMNqVhE",
        "outputId": "fe634ab8-83d7-4b6d-a568-4787ebaa6eee"
      },
      "execution_count": 61,
      "outputs": [
        {
          "output_type": "display_data",
          "data": {
            "text/plain": [
              "<Figure size 720x360 with 1 Axes>"
            ],
            "image/png": "[encoded data removed]"
          },
          "metadata": {
            "needs_background": "light"
          }
        }
      ]
    },
    {
      "cell_type": "markdown",
      "source": [
        "## Repeating the Synthetic Dataset Experiment 1000 Times"
      ],
      "metadata": {
        "id": "gjE_m96JmoS8"
      }
    },
    {
      "cell_type": "code",
      "source": [
        ""
      ],
      "metadata": {
        "id": "4gwQV5oFmzYW"
      },
      "execution_count": null,
      "outputs": []
    }
  ]
}